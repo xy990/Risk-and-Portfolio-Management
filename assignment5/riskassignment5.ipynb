{
 "cells": [
  {
   "cell_type": "code",
   "execution_count": 1,
   "metadata": {},
   "outputs": [
    {
     "name": "stderr",
     "output_type": "stream",
     "text": [
      "C:\\Users\\sherryyang\\Anaconda3\\lib\\site-packages\\statsmodels\\compat\\pandas.py:56: FutureWarning: The pandas.core.datetools module is deprecated and will be removed in a future version. Please use the pandas.tseries module instead.\n",
      "  from pandas.core import datetools\n"
     ]
    }
   ],
   "source": [
    "import pandas as pd\n",
    "import numpy as np\n",
    "import statsmodels.api as sm\n",
    "import math\n",
    "from matplotlib import pyplot as plt"
   ]
  },
  {
   "cell_type": "code",
   "execution_count": 2,
   "metadata": {},
   "outputs": [],
   "source": [
    "#import the s&p 500 adjusted return datasets, after deleting the companies with more than 50 null values\n",
    "#there are 451 companies left\n",
    "spx =pd.read_csv('spx_adjreturn.csv', index_col=0)"
   ]
  },
  {
   "cell_type": "code",
   "execution_count": 4,
   "metadata": {},
   "outputs": [],
   "source": [
    "spx_std = spx.std()"
   ]
  },
  {
   "cell_type": "code",
   "execution_count": 5,
   "metadata": {},
   "outputs": [],
   "source": [
    "spx_std =np.array(spx_std)"
   ]
  },
  {
   "cell_type": "code",
   "execution_count": 6,
   "metadata": {},
   "outputs": [],
   "source": [
    "# correlation matrix\n",
    "corr = spx.corr()"
   ]
  },
  {
   "cell_type": "code",
   "execution_count": 7,
   "metadata": {},
   "outputs": [
    {
     "data": {
      "text/html": [
       "<div>\n",
       "<style scoped>\n",
       "    .dataframe tbody tr th:only-of-type {\n",
       "        vertical-align: middle;\n",
       "    }\n",
       "\n",
       "    .dataframe tbody tr th {\n",
       "        vertical-align: top;\n",
       "    }\n",
       "\n",
       "    .dataframe thead th {\n",
       "        text-align: right;\n",
       "    }\n",
       "</style>\n",
       "<table border=\"1\" class=\"dataframe\">\n",
       "  <thead>\n",
       "    <tr style=\"text-align: right;\">\n",
       "      <th></th>\n",
       "      <th>A</th>\n",
       "      <th>AAL</th>\n",
       "      <th>AAP</th>\n",
       "      <th>AAPL</th>\n",
       "      <th>ABC</th>\n",
       "      <th>ABT</th>\n",
       "      <th>ACN</th>\n",
       "      <th>ADBE</th>\n",
       "      <th>ADI</th>\n",
       "      <th>ADM</th>\n",
       "      <th>...</th>\n",
       "      <th>XEL</th>\n",
       "      <th>XL</th>\n",
       "      <th>XLNX</th>\n",
       "      <th>XOM</th>\n",
       "      <th>XRAY</th>\n",
       "      <th>XRX</th>\n",
       "      <th>XYL</th>\n",
       "      <th>YUM</th>\n",
       "      <th>ZBH</th>\n",
       "      <th>ZION</th>\n",
       "    </tr>\n",
       "  </thead>\n",
       "  <tbody>\n",
       "    <tr>\n",
       "      <th>A</th>\n",
       "      <td>1.000000</td>\n",
       "      <td>0.241313</td>\n",
       "      <td>0.224045</td>\n",
       "      <td>0.338967</td>\n",
       "      <td>0.290061</td>\n",
       "      <td>0.489348</td>\n",
       "      <td>0.510383</td>\n",
       "      <td>0.449890</td>\n",
       "      <td>0.494996</td>\n",
       "      <td>0.345342</td>\n",
       "      <td>...</td>\n",
       "      <td>0.186550</td>\n",
       "      <td>0.360438</td>\n",
       "      <td>0.440464</td>\n",
       "      <td>0.410670</td>\n",
       "      <td>0.480107</td>\n",
       "      <td>0.390144</td>\n",
       "      <td>0.488349</td>\n",
       "      <td>0.388471</td>\n",
       "      <td>0.455145</td>\n",
       "      <td>0.481190</td>\n",
       "    </tr>\n",
       "    <tr>\n",
       "      <th>AAL</th>\n",
       "      <td>0.241313</td>\n",
       "      <td>1.000000</td>\n",
       "      <td>0.172459</td>\n",
       "      <td>0.159752</td>\n",
       "      <td>0.169518</td>\n",
       "      <td>0.231789</td>\n",
       "      <td>0.202034</td>\n",
       "      <td>0.211614</td>\n",
       "      <td>0.241366</td>\n",
       "      <td>0.159148</td>\n",
       "      <td>...</td>\n",
       "      <td>0.081671</td>\n",
       "      <td>0.221148</td>\n",
       "      <td>0.186293</td>\n",
       "      <td>0.118121</td>\n",
       "      <td>0.215680</td>\n",
       "      <td>0.185921</td>\n",
       "      <td>0.200757</td>\n",
       "      <td>0.202993</td>\n",
       "      <td>0.182511</td>\n",
       "      <td>0.262542</td>\n",
       "    </tr>\n",
       "    <tr>\n",
       "      <th>AAP</th>\n",
       "      <td>0.224045</td>\n",
       "      <td>0.172459</td>\n",
       "      <td>1.000000</td>\n",
       "      <td>0.136051</td>\n",
       "      <td>0.159154</td>\n",
       "      <td>0.260046</td>\n",
       "      <td>0.227071</td>\n",
       "      <td>0.177989</td>\n",
       "      <td>0.217637</td>\n",
       "      <td>0.214114</td>\n",
       "      <td>...</td>\n",
       "      <td>0.146380</td>\n",
       "      <td>0.184410</td>\n",
       "      <td>0.197119</td>\n",
       "      <td>0.208581</td>\n",
       "      <td>0.234837</td>\n",
       "      <td>0.194795</td>\n",
       "      <td>0.259620</td>\n",
       "      <td>0.255058</td>\n",
       "      <td>0.238392</td>\n",
       "      <td>0.268086</td>\n",
       "    </tr>\n",
       "    <tr>\n",
       "      <th>AAPL</th>\n",
       "      <td>0.338967</td>\n",
       "      <td>0.159752</td>\n",
       "      <td>0.136051</td>\n",
       "      <td>1.000000</td>\n",
       "      <td>0.164536</td>\n",
       "      <td>0.266171</td>\n",
       "      <td>0.299967</td>\n",
       "      <td>0.284794</td>\n",
       "      <td>0.381255</td>\n",
       "      <td>0.181457</td>\n",
       "      <td>...</td>\n",
       "      <td>0.100179</td>\n",
       "      <td>0.179263</td>\n",
       "      <td>0.267575</td>\n",
       "      <td>0.248110</td>\n",
       "      <td>0.258916</td>\n",
       "      <td>0.263340</td>\n",
       "      <td>0.268887</td>\n",
       "      <td>0.262548</td>\n",
       "      <td>0.288751</td>\n",
       "      <td>0.278419</td>\n",
       "    </tr>\n",
       "    <tr>\n",
       "      <th>ABC</th>\n",
       "      <td>0.290061</td>\n",
       "      <td>0.169518</td>\n",
       "      <td>0.159154</td>\n",
       "      <td>0.164536</td>\n",
       "      <td>1.000000</td>\n",
       "      <td>0.363972</td>\n",
       "      <td>0.261711</td>\n",
       "      <td>0.220370</td>\n",
       "      <td>0.221732</td>\n",
       "      <td>0.193637</td>\n",
       "      <td>...</td>\n",
       "      <td>0.100541</td>\n",
       "      <td>0.244613</td>\n",
       "      <td>0.188089</td>\n",
       "      <td>0.221438</td>\n",
       "      <td>0.305694</td>\n",
       "      <td>0.201924</td>\n",
       "      <td>0.217879</td>\n",
       "      <td>0.185667</td>\n",
       "      <td>0.266584</td>\n",
       "      <td>0.252543</td>\n",
       "    </tr>\n",
       "  </tbody>\n",
       "</table>\n",
       "<p>5 rows × 451 columns</p>\n",
       "</div>"
      ],
      "text/plain": [
       "             A       AAL       AAP      AAPL       ABC       ABT       ACN  \\\n",
       "A     1.000000  0.241313  0.224045  0.338967  0.290061  0.489348  0.510383   \n",
       "AAL   0.241313  1.000000  0.172459  0.159752  0.169518  0.231789  0.202034   \n",
       "AAP   0.224045  0.172459  1.000000  0.136051  0.159154  0.260046  0.227071   \n",
       "AAPL  0.338967  0.159752  0.136051  1.000000  0.164536  0.266171  0.299967   \n",
       "ABC   0.290061  0.169518  0.159154  0.164536  1.000000  0.363972  0.261711   \n",
       "\n",
       "          ADBE       ADI       ADM    ...          XEL        XL      XLNX  \\\n",
       "A     0.449890  0.494996  0.345342    ...     0.186550  0.360438  0.440464   \n",
       "AAL   0.211614  0.241366  0.159148    ...     0.081671  0.221148  0.186293   \n",
       "AAP   0.177989  0.217637  0.214114    ...     0.146380  0.184410  0.197119   \n",
       "AAPL  0.284794  0.381255  0.181457    ...     0.100179  0.179263  0.267575   \n",
       "ABC   0.220370  0.221732  0.193637    ...     0.100541  0.244613  0.188089   \n",
       "\n",
       "           XOM      XRAY       XRX       XYL       YUM       ZBH      ZION  \n",
       "A     0.410670  0.480107  0.390144  0.488349  0.388471  0.455145  0.481190  \n",
       "AAL   0.118121  0.215680  0.185921  0.200757  0.202993  0.182511  0.262542  \n",
       "AAP   0.208581  0.234837  0.194795  0.259620  0.255058  0.238392  0.268086  \n",
       "AAPL  0.248110  0.258916  0.263340  0.268887  0.262548  0.288751  0.278419  \n",
       "ABC   0.221438  0.305694  0.201924  0.217879  0.185667  0.266584  0.252543  \n",
       "\n",
       "[5 rows x 451 columns]"
      ]
     },
     "execution_count": 7,
     "metadata": {},
     "output_type": "execute_result"
    }
   ],
   "source": [
    "corr.head()"
   ]
  },
  {
   "cell_type": "code",
   "execution_count": 8,
   "metadata": {},
   "outputs": [],
   "source": [
    "#dataframe to matrix, prepare for eigenvector and eigenvalue calculation\n",
    "corr_mat = corr.as_matrix()"
   ]
  },
  {
   "cell_type": "code",
   "execution_count": 9,
   "metadata": {},
   "outputs": [],
   "source": [
    "#eigenvalues\n",
    "eig_vals = np.linalg.eig(corr_mat)[0]\n",
    "#eigenvectors\n",
    "eig_vecs = np.linalg.eig(corr_mat)[1]"
   ]
  },
  {
   "cell_type": "markdown",
   "metadata": {},
   "source": [
    "# PCA Analysis"
   ]
  },
  {
   "cell_type": "code",
   "execution_count": 10,
   "metadata": {},
   "outputs": [
    {
     "name": "stdout",
     "output_type": "stream",
     "text": [
      "Eigenvalues in descending order:\n",
      "139.9614790145257\n",
      "25.32615484405662\n",
      "12.428010687158569\n",
      "7.627724580025198\n",
      "7.082776659008694\n",
      "6.080279104377702\n",
      "5.594093344354964\n",
      "4.615595591044261\n",
      "3.8542025943509004\n",
      "3.4263596511821732\n",
      "3.1892874261124398\n",
      "3.1294502105307114\n",
      "2.756481593530173\n",
      "2.6717595607417968\n",
      "2.4174430863456586\n",
      "2.27103773298963\n",
      "2.1927418881807172\n",
      "2.1149098383030935\n",
      "2.0037997964052914\n",
      "1.954304140179188\n",
      "1.9466078914852205\n",
      "1.8800593075423608\n",
      "1.7920397440186293\n",
      "1.759960360335682\n",
      "1.7149804543796259\n",
      "1.6716493418530076\n",
      "1.6343496378623457\n",
      "1.6046343623228418\n",
      "1.587483612235852\n",
      "1.5375153915631485\n",
      "1.5249399470644813\n",
      "1.497648516913017\n",
      "1.466938472500262\n",
      "1.4478106193950564\n",
      "1.4255480096070903\n",
      "1.410095612412863\n",
      "1.3965260747554482\n",
      "1.3839537634259702\n",
      "1.3801533987853507\n",
      "1.3545379225344705\n",
      "1.3454517929162488\n",
      "1.3334415194613263\n",
      "1.321987366025082\n",
      "1.2946953328048454\n",
      "1.2587328775898694\n",
      "1.2558557859605606\n",
      "1.2464128330061883\n",
      "1.2259520758279476\n",
      "1.213452403101939\n",
      "1.2044626348279632\n",
      "1.1894373480904343\n",
      "1.1796691329062436\n",
      "1.1730665146005816\n",
      "1.1668766116093034\n",
      "1.1539243117507338\n",
      "1.145624268808845\n",
      "1.1374132591852655\n",
      "1.1237876566073028\n",
      "1.1066065219778545\n",
      "1.1009913693572504\n",
      "1.0786182132940645\n",
      "1.072275369379056\n",
      "1.0629400223907488\n",
      "1.0601842142912954\n",
      "1.0496598703829894\n",
      "1.0431863799231513\n",
      "1.0371863514368769\n",
      "1.0292315243604102\n",
      "1.0216478753357614\n",
      "1.0066772271581683\n",
      "0.9939913100172636\n",
      "0.9923414281918401\n",
      "0.9816881859565457\n",
      "0.9776087709019543\n",
      "0.9712632445745965\n",
      "0.9611295849784535\n",
      "0.9570178809614389\n",
      "0.9486892200688299\n",
      "0.9418268152748892\n",
      "0.935093592479747\n",
      "0.9248287550703144\n",
      "0.9225508285196988\n",
      "0.9158889871231862\n",
      "0.9131075814300783\n",
      "0.9052964702815599\n",
      "0.8982393403894342\n",
      "0.8968263167183105\n",
      "0.8850888158260887\n",
      "0.8834577290383879\n",
      "0.8770686584144524\n",
      "0.8694451831428949\n",
      "0.8645323131482774\n",
      "0.8575284871836187\n",
      "0.8426438109747364\n",
      "0.8366519126265475\n",
      "0.8321659870886795\n",
      "0.8246154084589467\n",
      "0.8220059833530375\n",
      "0.8176230084956086\n",
      "0.80866984794097\n",
      "0.8056432815635385\n",
      "0.8027176933726381\n",
      "0.7991291632573918\n",
      "0.7953788817168691\n",
      "0.7894693007580434\n",
      "0.7831336531133921\n",
      "0.7808417339378791\n",
      "0.7734551329010011\n",
      "0.767160031049762\n",
      "0.7596775529270786\n",
      "0.7549544259497014\n",
      "0.7535492874920566\n",
      "0.7483683352662174\n",
      "0.7437184925223463\n",
      "0.7387327322304347\n",
      "0.7371352611278854\n",
      "0.7340509977638552\n",
      "0.7323924532804627\n",
      "0.7304871893910078\n",
      "0.7240166356818969\n",
      "0.7184791127398461\n",
      "0.7107398456800113\n",
      "0.7055432897631349\n",
      "0.7026529880622225\n",
      "0.696217573392881\n",
      "0.6904398417267734\n",
      "0.6871392230359231\n",
      "0.6809395876465337\n",
      "0.6784878105838572\n",
      "0.6766340179476048\n",
      "0.6735738987896478\n",
      "0.6697378602216052\n",
      "0.666670346949578\n",
      "0.6648291923430109\n",
      "0.6555771046868621\n",
      "0.6527795454127239\n",
      "0.6468984242599627\n",
      "0.6454407703731594\n",
      "0.642359039593063\n",
      "0.6398862952496129\n",
      "0.63771618698655\n",
      "0.6342492112504553\n",
      "0.6304866443222029\n",
      "0.6283673603932959\n",
      "0.6230117882340855\n",
      "0.619799837901399\n",
      "0.612966931896516\n",
      "0.6120669419627922\n",
      "0.6073599301966559\n",
      "0.6028578513059348\n",
      "0.6008069258190429\n",
      "0.5950035490236605\n",
      "0.5946356448290859\n",
      "0.5903787512036726\n",
      "0.5879929842600234\n",
      "0.5839411391640379\n",
      "0.5787519563287519\n",
      "0.5772212934331552\n",
      "0.5736731317342553\n",
      "0.5686400237392606\n",
      "0.5627449521340645\n",
      "0.5607630469780711\n",
      "0.5595992622191934\n",
      "0.5568756462266197\n",
      "0.5495886672420646\n",
      "0.5478469972448845\n",
      "0.5466474103496273\n",
      "0.5414848462684911\n",
      "0.5396281411478332\n",
      "0.5384200059732025\n",
      "0.5330753301416714\n",
      "0.5289905560470118\n",
      "0.5279427107828348\n",
      "0.5250725284956441\n",
      "0.5206044130482193\n",
      "0.5195659066384883\n",
      "0.5171835034554756\n",
      "0.5115807564989556\n",
      "0.5087436319117383\n",
      "0.5056365180812423\n",
      "0.5020519449477073\n",
      "0.4974870356617361\n",
      "0.4960209476726945\n",
      "0.49319170256509787\n",
      "0.48759251849330526\n",
      "0.4866006983250898\n",
      "0.48461418691257824\n",
      "0.481321439949897\n",
      "0.4787835425712891\n",
      "0.4729971211682641\n",
      "0.4714572664816814\n",
      "0.47053475702100556\n",
      "0.4685371504784507\n",
      "0.465079369180369\n",
      "0.46406247831092123\n",
      "0.4638762169262922\n",
      "0.4573491903428983\n",
      "0.4560321749891268\n",
      "0.4546431781170762\n",
      "0.4531282720641427\n",
      "0.4514332730285055\n",
      "0.4466499495607873\n",
      "0.44640269130465926\n",
      "0.4429189481560531\n",
      "0.44109526391391535\n",
      "0.43777568555128327\n",
      "0.43650939119798565\n",
      "0.43158181425634945\n",
      "0.42984461029853555\n",
      "0.42818136455698463\n",
      "0.42624211597881906\n",
      "0.42307020267918477\n",
      "0.421155182664839\n",
      "0.4202846790501258\n",
      "0.4170407078380149\n",
      "0.41600423172503814\n",
      "0.41203691087657135\n",
      "0.4076353821837652\n",
      "0.40610222257548\n",
      "0.4048151068282038\n",
      "0.4025096237913022\n",
      "0.4004912930082238\n",
      "0.3962490830743348\n",
      "0.39403201056801634\n",
      "0.3917971092477232\n",
      "0.39120430285050267\n",
      "0.38761898188569327\n",
      "0.38718535191880604\n",
      "0.38335307014430586\n",
      "0.38193619519691563\n",
      "0.37722008396996326\n",
      "0.37508287559206144\n",
      "0.3743042914199306\n",
      "0.37330720734557804\n",
      "0.3700569101849576\n",
      "0.36690237988667834\n",
      "0.3642027722327871\n",
      "0.36049050827255247\n",
      "0.35928203637140455\n",
      "0.35877705866985254\n",
      "0.35653157817275116\n",
      "0.35591668454348035\n",
      "0.352370556160496\n",
      "0.34845959094280626\n",
      "0.34816331743162515\n",
      "0.3444505030637035\n",
      "0.34241873899201336\n",
      "0.342197773453564\n",
      "0.34024472286948293\n",
      "0.33828858081657776\n",
      "0.3362988831766693\n",
      "0.334642895130411\n",
      "0.33367954318606724\n",
      "0.32933075450913396\n",
      "0.3288112267568786\n",
      "0.3273448787164038\n",
      "0.3257766102128001\n",
      "0.32348430782528753\n",
      "0.3230807807927027\n",
      "0.31915454914477\n",
      "0.3180465705342544\n",
      "0.3139540215045313\n",
      "0.3125376435137718\n",
      "0.3118934672691633\n",
      "0.3100159458611005\n",
      "0.3078622478583918\n",
      "0.305353871596521\n",
      "0.3051160873883655\n",
      "0.303643683853816\n",
      "0.3010597418906177\n",
      "0.2997943724760214\n",
      "0.29877444158656397\n",
      "0.297623956512848\n",
      "0.29403394199603267\n",
      "0.29272992356265837\n",
      "0.2908945071686156\n",
      "0.2886924613389527\n",
      "0.2879242957387567\n",
      "0.2838219417854949\n",
      "0.2829715927113352\n",
      "0.28214450960854476\n",
      "0.27945381829693006\n",
      "0.277614237259195\n",
      "0.27579115506233987\n",
      "0.27375630703098336\n",
      "0.2719256183818733\n",
      "0.2702659786847242\n",
      "0.2685762499952251\n",
      "0.2667668856448012\n",
      "0.26480044056173657\n",
      "0.2614986477940017\n",
      "0.26053329478592374\n",
      "0.2589921572328924\n",
      "0.25814403162915667\n",
      "0.2562721648107426\n",
      "0.25509499129407764\n",
      "0.2538716064069699\n",
      "0.2513126854829682\n",
      "0.24856682548312853\n",
      "0.2474016412604174\n",
      "0.24648111519928734\n",
      "0.24383607490972825\n",
      "0.24223508990287615\n",
      "0.23940223440012445\n",
      "0.23937181680200903\n",
      "0.23775916198568764\n",
      "0.23528983437233703\n",
      "0.2349061662555451\n",
      "0.23380792355176994\n",
      "0.2315250403946853\n",
      "0.22932018444433724\n",
      "0.22831275638520745\n",
      "0.22767904495317667\n",
      "0.2266127490151308\n",
      "0.22476308449571697\n",
      "0.22346894978912019\n",
      "0.2219086832770469\n",
      "0.22055313445999747\n",
      "0.22006731836651452\n",
      "0.21682558347073289\n",
      "0.21541653357875043\n",
      "0.21217062878858853\n",
      "0.21159316101572598\n",
      "0.2108055750994907\n",
      "0.20960927946125557\n",
      "0.20826314032000584\n",
      "0.20799410250722164\n",
      "0.20615724093996374\n",
      "0.20488631694907872\n",
      "0.20322015980325123\n",
      "0.20188131986851274\n",
      "0.1983714876623516\n",
      "0.19796656049747688\n",
      "0.19502512817586737\n",
      "0.1944713380863855\n",
      "0.19230447162560516\n",
      "0.19144398802347276\n",
      "0.1905883117290514\n",
      "0.19008942045476063\n",
      "0.1890684541450339\n",
      "0.18692987119746207\n",
      "0.18413044189039224\n",
      "0.18339375074324354\n",
      "0.18310005669300417\n",
      "0.18044989976358528\n",
      "0.17967028710346145\n",
      "0.17825956327207618\n",
      "0.17687867425673917\n",
      "0.17588086101332254\n",
      "0.1748444064926999\n",
      "0.17414111341596109\n",
      "0.1727252025117605\n",
      "0.17121991991163468\n",
      "0.16954179295912059\n",
      "0.1680950494059068\n",
      "0.16752612657340424\n",
      "0.16588441557243633\n",
      "0.1640254561706521\n",
      "0.16383815387179243\n",
      "0.16179882046315228\n",
      "0.16059072400374388\n",
      "0.15958865789956841\n",
      "0.15894114582512006\n",
      "0.15681174230157682\n",
      "0.15648063897890133\n",
      "0.15505348611709366\n",
      "0.15358731058712383\n",
      "0.1530331368630259\n",
      "0.15273083260092993\n",
      "0.15080304839700387\n",
      "0.14847135743620324\n",
      "0.1477396584127842\n",
      "0.1464748457986465\n",
      "0.14513401264979175\n",
      "0.14405947613351333\n",
      "0.14359425505395645\n",
      "0.14085073666772988\n",
      "0.14065678339701038\n",
      "0.13981778121294872\n",
      "0.13804319316057131\n",
      "0.13746323219389828\n",
      "0.1358949489343243\n",
      "0.13565173292876678\n",
      "0.13319260186152343\n",
      "0.1318057323766815\n",
      "0.13081266079371115\n",
      "0.13024155904550203\n",
      "0.12917922164553536\n",
      "0.12634693935742974\n",
      "0.12525508827038204\n",
      "0.12380993931786831\n",
      "0.12320452729376846\n",
      "0.12181672414049016\n",
      "0.1210357896268003\n",
      "0.11969382899243297\n",
      "0.11896005980804499\n",
      "0.11879867548222686\n",
      "0.11771233059012068\n",
      "0.11703360594592636\n",
      "0.11569349577376169\n",
      "0.1143458584349934\n",
      "0.11373626507292549\n",
      "0.11244285686310009\n",
      "0.11111082272768763\n",
      "0.1102769169383284\n",
      "0.10940282358242619\n",
      "0.10778274774967914\n",
      "0.1068202935252839\n",
      "0.10508726322119692\n",
      "0.10460695549413197\n",
      "0.10440709950553892\n",
      "0.1041824979895927\n",
      "0.10173975890166277\n",
      "0.1010137218000994\n",
      "0.09988217613718228\n",
      "0.098279577424547\n",
      "0.09759081990970205\n",
      "0.0964603835439238\n",
      "0.09538405495922525\n",
      "0.09513406005411813\n",
      "0.09346680876457172\n",
      "0.0922639048535423\n",
      "0.09078435208399874\n",
      "0.08994305550163369\n",
      "0.08866140448021431\n",
      "0.08711980683017358\n",
      "0.0854730486304787\n",
      "0.08490302845673445\n",
      "0.08276818087732302\n",
      "0.08230270696992287\n",
      "0.08144867389778279\n",
      "0.08014800542277098\n",
      "0.07920197968847166\n",
      "0.07779200006477219\n",
      "0.07704834175150281\n",
      "0.07633656816920203\n",
      "0.07415597362954054\n",
      "0.07404366446360781\n",
      "0.07170013021849098\n",
      "0.07110796498048205\n",
      "0.06953616722184248\n",
      "0.06756228822180772\n",
      "0.0663734844618092\n",
      "0.06533035562001936\n",
      "0.06334283011058522\n",
      "0.06050790824588427\n",
      "0.059922693982035036\n",
      "0.057678138409667255\n",
      "0.05506053210471103\n",
      "0.024263832356903436\n",
      "0.013275932558389714\n"
     ]
    }
   ],
   "source": [
    "# Make a list of (eigenvalue, eigenvector) tuples\n",
    "eig_pairs = [(np.abs(eig_vals[i]), eig_vecs[:,i]) for i in range(len(eig_vals))]\n",
    "\n",
    "# Sort the (eigenvalue, eigenvector) tuples from high to low\n",
    "eig_pairs.sort()\n",
    "eig_pairs.reverse()\n",
    "\n",
    "# Visually confirm that the list is correctly sorted by decreasing eigenvalues\n",
    "print('Eigenvalues in descending order:')\n",
    "for i in eig_pairs:\n",
    "    print(i[0])"
   ]
  },
  {
   "cell_type": "code",
   "execution_count": 11,
   "metadata": {},
   "outputs": [
    {
     "data": {
      "image/png": "[encoded data removed]",
      "text/plain": [
       "<matplotlib.figure.Figure at 0x277601ed0b8>"
      ]
     },
     "metadata": {},
     "output_type": "display_data"
    }
   ],
   "source": [
    "# Use explained variance to decide how many components to choose \n",
    "# The explained variance tells us how much information (variance) can be attributed to each of the principal components.\n",
    "tot = sum(eig_vals)\n",
    "var_exp = [(i / tot)*100 for i in sorted(eig_vals, reverse=True)]\n",
    "cum_var_exp = np.cumsum(var_exp)\n",
    "plt.figure(figsize= (20,10))\n",
    "plt.bar(range(len(eig_vals+1)), var_exp,align='center', alpha=0.5, color = 'r')\n",
    "plt.scatter(range(len(eig_vals+1)), cum_var_exp,color = 'b')\n",
    "plt.ylabel('Explained Variance in Percent')\n",
    "plt.title('Explained Variance by Different Princical Components') \n",
    "plt.show()"
   ]
  },
  {
   "cell_type": "markdown",
   "metadata": {},
   "source": [
    "# Compare $\\frac{\\Delta p}{p}$ and $\\frac{\\Delta spy}{spy}$"
   ]
  },
  {
   "cell_type": "markdown",
   "metadata": {},
   "source": [
    "# $w_{i}^{(1)} = \\frac{v_{i}^{(1)}}{\\sigma_{i}} \\frac{1}{\\sqrt{\\lambda_{i}}}$\n",
    "$\\theta_{i}^{(1)} = \\frac{w_{i}^{(1)}}{\\sum w_{j}^{(1)}}$ , \n",
    "$\\frac{\\Delta p_{t}}{p} = \\sum_{i} \\theta_{i} R_{it}$"
   ]
  },
  {
   "cell_type": "code",
   "execution_count": 12,
   "metadata": {},
   "outputs": [],
   "source": [
    "#the first eigenvector\n",
    "eigenvec_1 = eig_vecs[:,0]"
   ]
  },
  {
   "cell_type": "code",
   "execution_count": 13,
   "metadata": {},
   "outputs": [],
   "source": [
    "#standard deviation\n",
    "std_1 =  np.std(eigenvec_1)"
   ]
  },
  {
   "cell_type": "code",
   "execution_count": 14,
   "metadata": {},
   "outputs": [],
   "source": [
    "w1 = eigenvec_1/spx_std *(1/math.sqrt(eig_vals[0]))"
   ]
  },
  {
   "cell_type": "code",
   "execution_count": 15,
   "metadata": {},
   "outputs": [],
   "source": [
    "theta1 = w1/sum(w1)"
   ]
  },
  {
   "cell_type": "code",
   "execution_count": 16,
   "metadata": {},
   "outputs": [],
   "source": [
    "# replace all null values in adjusted return data with 0\n",
    "spx =spx.fillna(0)"
   ]
  },
  {
   "cell_type": "code",
   "execution_count": 17,
   "metadata": {},
   "outputs": [],
   "source": [
    "spx = spx.astype(float)"
   ]
  },
  {
   "cell_type": "code",
   "execution_count": 18,
   "metadata": {},
   "outputs": [],
   "source": [
    "spx_mat= spx.as_matrix()"
   ]
  },
  {
   "cell_type": "code",
   "execution_count": 19,
   "metadata": {},
   "outputs": [],
   "source": [
    "dollar_one_norm_ret = np.matmul(spx_mat[1:],theta1)"
   ]
  },
  {
   "cell_type": "code",
   "execution_count": 20,
   "metadata": {},
   "outputs": [
    {
     "data": {
      "text/plain": [
       "array([-0.00412625,  0.00576463,  0.00109512, ...,  0.01023777,\n",
       "        0.00142275, -0.00718928])"
      ]
     },
     "execution_count": 20,
     "metadata": {},
     "output_type": "execute_result"
    }
   ],
   "source": [
    "dollar_one_norm_ret"
   ]
  },
  {
   "cell_type": "code",
   "execution_count": 21,
   "metadata": {},
   "outputs": [
    {
     "data": {
      "text/plain": [
       "2.514503554886386"
      ]
     },
     "execution_count": 21,
     "metadata": {},
     "output_type": "execute_result"
    }
   ],
   "source": [
    "sy = dollar_one_norm_ret+1\n",
    "np.prod(sy)"
   ]
  },
  {
   "cell_type": "code",
   "execution_count": 22,
   "metadata": {},
   "outputs": [
    {
     "data": {
      "text/plain": [
       "(1509,)"
      ]
     },
     "execution_count": 22,
     "metadata": {},
     "output_type": "execute_result"
    }
   ],
   "source": [
    "dollar_one_norm_ret.shape"
   ]
  },
  {
   "cell_type": "markdown",
   "metadata": {},
   "source": [
    "# Stock SPY"
   ]
  },
  {
   "cell_type": "code",
   "execution_count": 23,
   "metadata": {},
   "outputs": [],
   "source": [
    "spy =pd.read_csv('SPY.csv', index_col =[0])"
   ]
  },
  {
   "cell_type": "code",
   "execution_count": 24,
   "metadata": {},
   "outputs": [],
   "source": [
    "spy_adjclose = spy['Adj Close'] "
   ]
  },
  {
   "cell_type": "code",
   "execution_count": 25,
   "metadata": {},
   "outputs": [],
   "source": [
    "spy_return = spy_adjclose.pct_change(1)"
   ]
  },
  {
   "cell_type": "code",
   "execution_count": 26,
   "metadata": {},
   "outputs": [],
   "source": [
    "spy_return = spy_return.dropna()\n",
    "spy_return_normlized = (spy_return-spy_return.mean())/spy_return.std()"
   ]
  },
  {
   "cell_type": "code",
   "execution_count": 27,
   "metadata": {},
   "outputs": [
    {
     "data": {
      "text/plain": [
       "array(['2012-02-21T00:00:00.000000000', '2012-02-22T00:00:00.000000000',\n",
       "       '2012-02-23T00:00:00.000000000', ...,\n",
       "       '2018-02-15T00:00:00.000000000', '2018-02-16T00:00:00.000000000',\n",
       "       '2018-02-20T00:00:00.000000000'], dtype='datetime64[ns]')"
      ]
     },
     "execution_count": 27,
     "metadata": {},
     "output_type": "execute_result"
    }
   ],
   "source": [
    "pd.to_datetime(spx.index).values"
   ]
  },
  {
   "cell_type": "code",
   "execution_count": 28,
   "metadata": {},
   "outputs": [
    {
     "data": {
      "image/png": "[encoded data removed]",
      "text/plain": [
       "<matplotlib.figure.Figure at 0x277602c1d30>"
      ]
     },
     "metadata": {},
     "output_type": "display_data"
    }
   ],
   "source": [
    "plt.figure(figsize= (20,10))\n",
    "plt.plot(range(len(dollar_one_norm_ret)), dollar_one_norm_ret, color ='r' )\n",
    "plt.plot(range(len(spy_return)),spy_return, color ='g' )\n",
    "plt.title(\"Dollar One Normalized Return of First Eigenvectors and SPY Daily adjusted Return Comparisons\" ) \n",
    "plt.show()"
   ]
  },
  {
   "cell_type": "code",
   "execution_count": 29,
   "metadata": {},
   "outputs": [
    {
     "data": {
      "image/png": "[encoded data removed]",
      "text/plain": [
       "<matplotlib.figure.Figure at 0x277602eccc0>"
      ]
     },
     "metadata": {},
     "output_type": "display_data"
    }
   ],
   "source": [
    "plt.figure(figsize= (20,10))\n",
    "plt.scatter(dollar_one_norm_ret,spy_return )\n",
    "plt.title(\"Dollar One Normalized Return of First Eigenvectors and SPY Daily adjusted Return Comparisons\" )\n",
    "plt.show()"
   ]
  },
  {
   "cell_type": "code",
   "execution_count": 30,
   "metadata": {},
   "outputs": [
    {
     "data": {
      "text/plain": [
       "array([[1.       , 0.9522158],\n",
       "       [0.9522158, 1.       ]])"
      ]
     },
     "execution_count": 30,
     "metadata": {},
     "output_type": "execute_result"
    }
   ],
   "source": [
    "np.corrcoef(dollar_one_norm_ret,spy_return)"
   ]
  },
  {
   "cell_type": "markdown",
   "metadata": {},
   "source": [
    "# Present sector $\\alpha$ with second eigenvector and third eigenvector"
   ]
  },
  {
   "cell_type": "code",
   "execution_count": 31,
   "metadata": {},
   "outputs": [],
   "source": [
    "companies = pd.read_csv('constituents.csv', index_col=[0])"
   ]
  },
  {
   "cell_type": "code",
   "execution_count": 32,
   "metadata": {},
   "outputs": [],
   "source": [
    "companies = companies['Sector']"
   ]
  },
  {
   "cell_type": "code",
   "execution_count": 33,
   "metadata": {},
   "outputs": [
    {
     "data": {
      "text/plain": [
       "Symbol\n",
       "MMM                Industrials\n",
       "ABT                Health Care\n",
       "ABBV               Health Care\n",
       "ACN     Information Technology\n",
       "ATVI    Information Technology\n",
       "Name: Sector, dtype: object"
      ]
     },
     "execution_count": 33,
     "metadata": {},
     "output_type": "execute_result"
    }
   ],
   "source": [
    "companies.head()"
   ]
  },
  {
   "cell_type": "code",
   "execution_count": 34,
   "metadata": {},
   "outputs": [],
   "source": [
    "#combine the correlation matrix data and company sectors dataset, then we can get the industry of every company belongs to\n",
    "industry_corr = corr.join(companies, how ='inner')"
   ]
  },
  {
   "cell_type": "code",
   "execution_count": 35,
   "metadata": {},
   "outputs": [
    {
     "data": {
      "text/plain": [
       "451"
      ]
     },
     "execution_count": 35,
     "metadata": {},
     "output_type": "execute_result"
    }
   ],
   "source": [
    "len(industry_corr )"
   ]
  },
  {
   "cell_type": "code",
   "execution_count": 36,
   "metadata": {},
   "outputs": [
    {
     "data": {
      "text/plain": [
       "array(['Health Care', 'Industrials', 'Consumer Discretionary',\n",
       "       'Information Technology', 'Consumer Staples', 'Utilities',\n",
       "       'Financials', 'Real Estate', 'Materials', 'Energy',\n",
       "       'Telecommunications Services'], dtype=object)"
      ]
     },
     "execution_count": 36,
     "metadata": {},
     "output_type": "execute_result"
    }
   ],
   "source": [
    "industry_corr['Sector'].unique()"
   ]
  },
  {
   "cell_type": "code",
   "execution_count": 37,
   "metadata": {},
   "outputs": [],
   "source": [
    "#the second eigenvector\n",
    "eigenvec_2 = eig_vecs[:,1]"
   ]
  },
  {
   "cell_type": "code",
   "execution_count": 38,
   "metadata": {},
   "outputs": [],
   "source": [
    "w2 = eigenvec_2/(spx_std * math.sqrt(eig_vals[1]))"
   ]
  },
  {
   "cell_type": "code",
   "execution_count": 39,
   "metadata": {},
   "outputs": [],
   "source": [
    "theta2 = w2/sum(w2)"
   ]
  },
  {
   "cell_type": "code",
   "execution_count": 40,
   "metadata": {},
   "outputs": [],
   "source": [
    "#the third eigenvector\n",
    "eigenvec_3 = eig_vecs[:,2]"
   ]
  },
  {
   "cell_type": "code",
   "execution_count": 41,
   "metadata": {},
   "outputs": [],
   "source": [
    "w3 = eigenvec_3/spx_std *(1/math.sqrt(eig_vals[2]))"
   ]
  },
  {
   "cell_type": "code",
   "execution_count": 42,
   "metadata": {},
   "outputs": [],
   "source": [
    "theta3 = w3/sum(w3)"
   ]
  },
  {
   "cell_type": "code",
   "execution_count": 43,
   "metadata": {},
   "outputs": [],
   "source": [
    "industry =  pd.DataFrame(industry_corr['Sector'])"
   ]
  },
  {
   "cell_type": "code",
   "execution_count": 44,
   "metadata": {},
   "outputs": [
    {
     "data": {
      "text/html": [
       "<div>\n",
       "<style scoped>\n",
       "    .dataframe tbody tr th:only-of-type {\n",
       "        vertical-align: middle;\n",
       "    }\n",
       "\n",
       "    .dataframe tbody tr th {\n",
       "        vertical-align: top;\n",
       "    }\n",
       "\n",
       "    .dataframe thead th {\n",
       "        text-align: right;\n",
       "    }\n",
       "</style>\n",
       "<table border=\"1\" class=\"dataframe\">\n",
       "  <thead>\n",
       "    <tr style=\"text-align: right;\">\n",
       "      <th></th>\n",
       "      <th>Sector</th>\n",
       "    </tr>\n",
       "  </thead>\n",
       "  <tbody>\n",
       "    <tr>\n",
       "      <th>A</th>\n",
       "      <td>Health Care</td>\n",
       "    </tr>\n",
       "    <tr>\n",
       "      <th>AAL</th>\n",
       "      <td>Industrials</td>\n",
       "    </tr>\n",
       "    <tr>\n",
       "      <th>AAP</th>\n",
       "      <td>Consumer Discretionary</td>\n",
       "    </tr>\n",
       "    <tr>\n",
       "      <th>AAPL</th>\n",
       "      <td>Information Technology</td>\n",
       "    </tr>\n",
       "    <tr>\n",
       "      <th>ABC</th>\n",
       "      <td>Health Care</td>\n",
       "    </tr>\n",
       "  </tbody>\n",
       "</table>\n",
       "</div>"
      ],
      "text/plain": [
       "                      Sector\n",
       "A                Health Care\n",
       "AAL              Industrials\n",
       "AAP   Consumer Discretionary\n",
       "AAPL  Information Technology\n",
       "ABC              Health Care"
      ]
     },
     "execution_count": 44,
     "metadata": {},
     "output_type": "execute_result"
    }
   ],
   "source": [
    "industry.head()"
   ]
  },
  {
   "cell_type": "code",
   "execution_count": 45,
   "metadata": {},
   "outputs": [],
   "source": [
    "industry['theta2'] = theta2"
   ]
  },
  {
   "cell_type": "code",
   "execution_count": 46,
   "metadata": {},
   "outputs": [],
   "source": [
    "industry['theta3'] = theta3"
   ]
  },
  {
   "cell_type": "code",
   "execution_count": 48,
   "metadata": {},
   "outputs": [
    {
     "data": {
      "text/plain": [
       "Sector\n",
       "Financials                    -0.381129\n",
       "Energy                        -0.125967\n",
       "Industrials                   -0.120798\n",
       "Information Technology        -0.082952\n",
       "Consumer Discretionary        -0.058554\n",
       "Materials                     -0.043617\n",
       "Telecommunications Services    0.025497\n",
       "Health Care                    0.039900\n",
       "Consumer Staples               0.382463\n",
       "Real Estate                    0.500611\n",
       "Utilities                      0.864547\n",
       "Name: theta2, dtype: float64"
      ]
     },
     "execution_count": 48,
     "metadata": {},
     "output_type": "execute_result"
    }
   ],
   "source": [
    "industry.groupby('Sector')['theta2'].sum().sort_values()"
   ]
  },
  {
   "cell_type": "code",
   "execution_count": 49,
   "metadata": {},
   "outputs": [
    {
     "data": {
      "text/plain": [
       "Sector\n",
       "Energy                        -4.257270\n",
       "Utilities                     -2.991541\n",
       "Materials                     -0.777676\n",
       "Real Estate                   -0.344911\n",
       "Industrials                   -0.336993\n",
       "Telecommunications Services   -0.097558\n",
       "Consumer Staples               0.931201\n",
       "Financials                     1.468632\n",
       "Information Technology         1.758007\n",
       "Consumer Discretionary         2.063443\n",
       "Health Care                    3.584666\n",
       "Name: theta3, dtype: float64"
      ]
     },
     "execution_count": 49,
     "metadata": {},
     "output_type": "execute_result"
    }
   ],
   "source": [
    "industry.groupby('Sector')['theta3'].sum().sort_values()"
   ]
  },
  {
   "cell_type": "code",
   "execution_count": null,
   "metadata": {},
   "outputs": [],
   "source": []
  }
 ],
 "metadata": {
  "kernelspec": {
   "display_name": "Python 3",
   "language": "python",
   "name": "python3"
  },
  "language_info": {
   "codemirror_mode": {
    "name": "ipython",
    "version": 3
   },
   "file_extension": ".py",
   "mimetype": "text/x-python",
   "name": "python",
   "nbconvert_exporter": "python",
   "pygments_lexer": "ipython3",
   "version": "3.6.5"
  }
 },
 "nbformat": 4,
 "nbformat_minor": 2
}
