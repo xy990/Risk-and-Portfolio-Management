{
 "cells": [
  {
   "cell_type": "code",
   "execution_count": 1,
   "metadata": {},
   "outputs": [],
   "source": [
    "\n",
    "import pandas as pd\n",
    "import numpy as np\n",
    "import matplotlib.pyplot as plt\n",
    "import scipy.optimize"
   ]
  },
  {
   "cell_type": "code",
   "execution_count": 2,
   "metadata": {},
   "outputs": [],
   "source": [
    "spy =pd.DataFrame(pd.read_csv('C:/Users/sherryyang/Desktop/Risk/assignment6/SPY.csv',index_col ='Date')['Adj Close'])"
   ]
  },
  {
   "cell_type": "code",
   "execution_count": 3,
   "metadata": {},
   "outputs": [],
   "source": [
    "tlt =pd.DataFrame(pd.read_csv('C:/Users/sherryyang/Desktop/Risk/assignment6/TLT.csv',index_col ='Date')['Adj Close'])"
   ]
  },
  {
   "cell_type": "code",
   "execution_count": 4,
   "metadata": {},
   "outputs": [],
   "source": [
    "btc =pd.DataFrame(pd.read_csv('C:/Users/sherryyang/Desktop/Risk/assignment6/BTC-USD.csv',index_col ='Date')['Adj Close'])"
   ]
  },
  {
   "cell_type": "code",
   "execution_count": 5,
   "metadata": {},
   "outputs": [],
   "source": [
    "vxx =pd.DataFrame(pd.read_csv('C:/Users/sherryyang/Desktop/Risk/assignment6/VXX.csv',index_col ='Date')['Adj Close'])"
   ]
  },
  {
   "cell_type": "code",
   "execution_count": 6,
   "metadata": {},
   "outputs": [],
   "source": [
    "xlf=pd.DataFrame(pd.read_csv('C:/Users/sherryyang/Desktop/Risk/assignment6/XLF.csv',index_col ='Date')['Adj Close'])"
   ]
  },
  {
   "cell_type": "code",
   "execution_count": 7,
   "metadata": {},
   "outputs": [],
   "source": [
    "fxi =pd.DataFrame(pd.read_csv('C:/Users/sherryyang/Desktop/Risk/assignment6/FXI.csv',index_col ='Date')[ 'Adj Close'])"
   ]
  },
  {
   "cell_type": "code",
   "execution_count": 8,
   "metadata": {},
   "outputs": [
    {
     "name": "stdout",
     "output_type": "stream",
     "text": [
      "755 755 1097 755 755 755\n"
     ]
    }
   ],
   "source": [
    "print(len(spy),len(tlt), len(btc), len(vxx),len(xlf), len(fxi) )"
   ]
  },
  {
   "cell_type": "code",
   "execution_count": 9,
   "metadata": {},
   "outputs": [],
   "source": [
    "\n",
    "\n",
    "combined1 = pd.merge(btc, spy, left_index=True, right_index=True, how='outer')"
   ]
  },
  {
   "cell_type": "code",
   "execution_count": 10,
   "metadata": {},
   "outputs": [],
   "source": [
    "combined1.columns =['btc','spy']"
   ]
  },
  {
   "cell_type": "code",
   "execution_count": 11,
   "metadata": {},
   "outputs": [],
   "source": [
    "combined2 = pd.merge(combined1, tlt, left_index=True, right_index=True, how='outer')\n"
   ]
  },
  {
   "cell_type": "code",
   "execution_count": 12,
   "metadata": {},
   "outputs": [],
   "source": [
    "combined2.columns =['btc','spy', 'tlt']"
   ]
  },
  {
   "cell_type": "code",
   "execution_count": 13,
   "metadata": {},
   "outputs": [],
   "source": [
    "combined3 = pd.merge(combined2, vxx, left_index=True, right_index=True, how='outer')"
   ]
  },
  {
   "cell_type": "code",
   "execution_count": 14,
   "metadata": {},
   "outputs": [],
   "source": [
    "combined3.columns =['btc','spy', 'tlt','vxx']"
   ]
  },
  {
   "cell_type": "code",
   "execution_count": 15,
   "metadata": {},
   "outputs": [],
   "source": [
    "combined4 = pd.merge(combined3, xlf, left_index=True, right_index=True, how='outer')"
   ]
  },
  {
   "cell_type": "code",
   "execution_count": 16,
   "metadata": {},
   "outputs": [],
   "source": [
    "combined4.columns =['btc','spy', 'tlt','vxx', 'xlf']"
   ]
  },
  {
   "cell_type": "code",
   "execution_count": 17,
   "metadata": {},
   "outputs": [],
   "source": [
    "#drop the btc adj return in weekends\n",
    "combined5 = pd.merge(combined4, fxi, left_index=True, right_index=True, how='inner')"
   ]
  },
  {
   "cell_type": "code",
   "execution_count": 18,
   "metadata": {},
   "outputs": [],
   "source": [
    "combined5.columns =['btc','spy', 'tlt','vxx', 'xlf', 'fxi']"
   ]
  },
  {
   "cell_type": "code",
   "execution_count": 19,
   "metadata": {},
   "outputs": [
    {
     "data": {
      "text/html": [
       "<div>\n",
       "<style scoped>\n",
       "    .dataframe tbody tr th:only-of-type {\n",
       "        vertical-align: middle;\n",
       "    }\n",
       "\n",
       "    .dataframe tbody tr th {\n",
       "        vertical-align: top;\n",
       "    }\n",
       "\n",
       "    .dataframe thead th {\n",
       "        text-align: right;\n",
       "    }\n",
       "</style>\n",
       "<table border=\"1\" class=\"dataframe\">\n",
       "  <thead>\n",
       "    <tr style=\"text-align: right;\">\n",
       "      <th></th>\n",
       "      <th>btc</th>\n",
       "      <th>spy</th>\n",
       "      <th>tlt</th>\n",
       "      <th>vxx</th>\n",
       "      <th>xlf</th>\n",
       "      <th>fxi</th>\n",
       "    </tr>\n",
       "    <tr>\n",
       "      <th>Date</th>\n",
       "      <th></th>\n",
       "      <th></th>\n",
       "      <th></th>\n",
       "      <th></th>\n",
       "      <th></th>\n",
       "      <th></th>\n",
       "    </tr>\n",
       "  </thead>\n",
       "  <tbody>\n",
       "    <tr>\n",
       "      <th>2015-03-09</th>\n",
       "      <td>290.019989</td>\n",
       "      <td>196.044159</td>\n",
       "      <td>115.734543</td>\n",
       "      <td>442.559998</td>\n",
       "      <td>14.388450</td>\n",
       "      <td>39.373985</td>\n",
       "    </tr>\n",
       "    <tr>\n",
       "      <th>2015-03-10</th>\n",
       "      <td>291.369995</td>\n",
       "      <td>192.863953</td>\n",
       "      <td>117.257355</td>\n",
       "      <td>456.160004</td>\n",
       "      <td>14.081054</td>\n",
       "      <td>38.458961</td>\n",
       "    </tr>\n",
       "    <tr>\n",
       "      <th>2015-03-11</th>\n",
       "      <td>295.600006</td>\n",
       "      <td>192.412338</td>\n",
       "      <td>118.111649</td>\n",
       "      <td>467.679993</td>\n",
       "      <td>14.169726</td>\n",
       "      <td>38.553299</td>\n",
       "    </tr>\n",
       "    <tr>\n",
       "      <th>2015-03-12</th>\n",
       "      <td>293.850006</td>\n",
       "      <td>194.858627</td>\n",
       "      <td>118.028046</td>\n",
       "      <td>439.679993</td>\n",
       "      <td>14.477120</td>\n",
       "      <td>38.940056</td>\n",
       "    </tr>\n",
       "    <tr>\n",
       "      <th>2015-03-13</th>\n",
       "      <td>287.209991</td>\n",
       "      <td>193.663681</td>\n",
       "      <td>117.665939</td>\n",
       "      <td>449.600006</td>\n",
       "      <td>14.376628</td>\n",
       "      <td>39.138153</td>\n",
       "    </tr>\n",
       "  </tbody>\n",
       "</table>\n",
       "</div>"
      ],
      "text/plain": [
       "                   btc         spy         tlt         vxx        xlf  \\\n",
       "Date                                                                    \n",
       "2015-03-09  290.019989  196.044159  115.734543  442.559998  14.388450   \n",
       "2015-03-10  291.369995  192.863953  117.257355  456.160004  14.081054   \n",
       "2015-03-11  295.600006  192.412338  118.111649  467.679993  14.169726   \n",
       "2015-03-12  293.850006  194.858627  118.028046  439.679993  14.477120   \n",
       "2015-03-13  287.209991  193.663681  117.665939  449.600006  14.376628   \n",
       "\n",
       "                  fxi  \n",
       "Date                   \n",
       "2015-03-09  39.373985  \n",
       "2015-03-10  38.458961  \n",
       "2015-03-11  38.553299  \n",
       "2015-03-12  38.940056  \n",
       "2015-03-13  39.138153  "
      ]
     },
     "execution_count": 19,
     "metadata": {},
     "output_type": "execute_result"
    }
   ],
   "source": [
    "combined5.head()"
   ]
  },
  {
   "cell_type": "code",
   "execution_count": 20,
   "metadata": {},
   "outputs": [],
   "source": [
    "# calculate daily and annual returns of the stocks\n",
    "daily_returns = combined5.pct_change(1)\n",
    "annual_returns= (daily_returns.mean()+1) ** 252-1\n",
    "#annual_returns = (combined5.iloc[-1]/combined5.iloc[0])**(1/3) -1"
   ]
  },
  {
   "cell_type": "code",
   "execution_count": 21,
   "metadata": {},
   "outputs": [
    {
     "data": {
      "text/plain": [
       "btc    3.315230\n",
       "spy    0.126030\n",
       "tlt    0.014784\n",
       "vxx   -0.424494\n",
       "xlf    0.298959\n",
       "fxi    0.096668\n",
       "dtype: float64"
      ]
     },
     "execution_count": 21,
     "metadata": {},
     "output_type": "execute_result"
    }
   ],
   "source": [
    "annual_returns  "
   ]
  },
  {
   "cell_type": "code",
   "execution_count": 22,
   "metadata": {},
   "outputs": [],
   "source": [
    "# get daily and covariance of returns of the stock\n",
    "daily_covariance = daily_returns.cov()\n",
    "annual_covariance = daily_covariance * 252"
   ]
  },
  {
   "cell_type": "code",
   "execution_count": 23,
   "metadata": {},
   "outputs": [
    {
     "data": {
      "text/html": [
       "<div>\n",
       "<style scoped>\n",
       "    .dataframe tbody tr th:only-of-type {\n",
       "        vertical-align: middle;\n",
       "    }\n",
       "\n",
       "    .dataframe tbody tr th {\n",
       "        vertical-align: top;\n",
       "    }\n",
       "\n",
       "    .dataframe thead th {\n",
       "        text-align: right;\n",
       "    }\n",
       "</style>\n",
       "<table border=\"1\" class=\"dataframe\">\n",
       "  <thead>\n",
       "    <tr style=\"text-align: right;\">\n",
       "      <th></th>\n",
       "      <th>btc</th>\n",
       "      <th>spy</th>\n",
       "      <th>tlt</th>\n",
       "      <th>vxx</th>\n",
       "      <th>xlf</th>\n",
       "      <th>fxi</th>\n",
       "    </tr>\n",
       "  </thead>\n",
       "  <tbody>\n",
       "    <tr>\n",
       "      <th>btc</th>\n",
       "      <td>0.002041</td>\n",
       "      <td>0.000019</td>\n",
       "      <td>0.000003</td>\n",
       "      <td>-0.000039</td>\n",
       "      <td>0.000016</td>\n",
       "      <td>-0.000006</td>\n",
       "    </tr>\n",
       "    <tr>\n",
       "      <th>spy</th>\n",
       "      <td>0.000019</td>\n",
       "      <td>0.000065</td>\n",
       "      <td>-0.000021</td>\n",
       "      <td>-0.000292</td>\n",
       "      <td>0.000074</td>\n",
       "      <td>0.000082</td>\n",
       "    </tr>\n",
       "    <tr>\n",
       "      <th>tlt</th>\n",
       "      <td>0.000003</td>\n",
       "      <td>-0.000021</td>\n",
       "      <td>0.000062</td>\n",
       "      <td>0.000088</td>\n",
       "      <td>-0.000041</td>\n",
       "      <td>-0.000030</td>\n",
       "    </tr>\n",
       "    <tr>\n",
       "      <th>vxx</th>\n",
       "      <td>-0.000039</td>\n",
       "      <td>-0.000292</td>\n",
       "      <td>0.000088</td>\n",
       "      <td>0.001832</td>\n",
       "      <td>-0.000344</td>\n",
       "      <td>-0.000383</td>\n",
       "    </tr>\n",
       "    <tr>\n",
       "      <th>xlf</th>\n",
       "      <td>0.000016</td>\n",
       "      <td>0.000074</td>\n",
       "      <td>-0.000041</td>\n",
       "      <td>-0.000344</td>\n",
       "      <td>0.000242</td>\n",
       "      <td>0.000093</td>\n",
       "    </tr>\n",
       "    <tr>\n",
       "      <th>fxi</th>\n",
       "      <td>-0.000006</td>\n",
       "      <td>0.000082</td>\n",
       "      <td>-0.000030</td>\n",
       "      <td>-0.000383</td>\n",
       "      <td>0.000093</td>\n",
       "      <td>0.000228</td>\n",
       "    </tr>\n",
       "  </tbody>\n",
       "</table>\n",
       "</div>"
      ],
      "text/plain": [
       "          btc       spy       tlt       vxx       xlf       fxi\n",
       "btc  0.002041  0.000019  0.000003 -0.000039  0.000016 -0.000006\n",
       "spy  0.000019  0.000065 -0.000021 -0.000292  0.000074  0.000082\n",
       "tlt  0.000003 -0.000021  0.000062  0.000088 -0.000041 -0.000030\n",
       "vxx -0.000039 -0.000292  0.000088  0.001832 -0.000344 -0.000383\n",
       "xlf  0.000016  0.000074 -0.000041 -0.000344  0.000242  0.000093\n",
       "fxi -0.000006  0.000082 -0.000030 -0.000383  0.000093  0.000228"
      ]
     },
     "execution_count": 23,
     "metadata": {},
     "output_type": "execute_result"
    }
   ],
   "source": [
    "daily_covariance"
   ]
  },
  {
   "cell_type": "code",
   "execution_count": 24,
   "metadata": {},
   "outputs": [
    {
     "data": {
      "text/html": [
       "<div>\n",
       "<style scoped>\n",
       "    .dataframe tbody tr th:only-of-type {\n",
       "        vertical-align: middle;\n",
       "    }\n",
       "\n",
       "    .dataframe tbody tr th {\n",
       "        vertical-align: top;\n",
       "    }\n",
       "\n",
       "    .dataframe thead th {\n",
       "        text-align: right;\n",
       "    }\n",
       "</style>\n",
       "<table border=\"1\" class=\"dataframe\">\n",
       "  <thead>\n",
       "    <tr style=\"text-align: right;\">\n",
       "      <th></th>\n",
       "      <th>btc</th>\n",
       "      <th>spy</th>\n",
       "      <th>tlt</th>\n",
       "      <th>vxx</th>\n",
       "      <th>xlf</th>\n",
       "      <th>fxi</th>\n",
       "    </tr>\n",
       "  </thead>\n",
       "  <tbody>\n",
       "    <tr>\n",
       "      <th>btc</th>\n",
       "      <td>0.514416</td>\n",
       "      <td>0.004759</td>\n",
       "      <td>0.000655</td>\n",
       "      <td>-0.009850</td>\n",
       "      <td>0.004047</td>\n",
       "      <td>-0.001565</td>\n",
       "    </tr>\n",
       "    <tr>\n",
       "      <th>spy</th>\n",
       "      <td>0.004759</td>\n",
       "      <td>0.016326</td>\n",
       "      <td>-0.005182</td>\n",
       "      <td>-0.073478</td>\n",
       "      <td>0.018654</td>\n",
       "      <td>0.020766</td>\n",
       "    </tr>\n",
       "    <tr>\n",
       "      <th>tlt</th>\n",
       "      <td>0.000655</td>\n",
       "      <td>-0.005182</td>\n",
       "      <td>0.015600</td>\n",
       "      <td>0.022132</td>\n",
       "      <td>-0.010457</td>\n",
       "      <td>-0.007530</td>\n",
       "    </tr>\n",
       "    <tr>\n",
       "      <th>vxx</th>\n",
       "      <td>-0.009850</td>\n",
       "      <td>-0.073478</td>\n",
       "      <td>0.022132</td>\n",
       "      <td>0.461633</td>\n",
       "      <td>-0.086668</td>\n",
       "      <td>-0.096414</td>\n",
       "    </tr>\n",
       "    <tr>\n",
       "      <th>xlf</th>\n",
       "      <td>0.004047</td>\n",
       "      <td>0.018654</td>\n",
       "      <td>-0.010457</td>\n",
       "      <td>-0.086668</td>\n",
       "      <td>0.060978</td>\n",
       "      <td>0.023314</td>\n",
       "    </tr>\n",
       "    <tr>\n",
       "      <th>fxi</th>\n",
       "      <td>-0.001565</td>\n",
       "      <td>0.020766</td>\n",
       "      <td>-0.007530</td>\n",
       "      <td>-0.096414</td>\n",
       "      <td>0.023314</td>\n",
       "      <td>0.057419</td>\n",
       "    </tr>\n",
       "  </tbody>\n",
       "</table>\n",
       "</div>"
      ],
      "text/plain": [
       "          btc       spy       tlt       vxx       xlf       fxi\n",
       "btc  0.514416  0.004759  0.000655 -0.009850  0.004047 -0.001565\n",
       "spy  0.004759  0.016326 -0.005182 -0.073478  0.018654  0.020766\n",
       "tlt  0.000655 -0.005182  0.015600  0.022132 -0.010457 -0.007530\n",
       "vxx -0.009850 -0.073478  0.022132  0.461633 -0.086668 -0.096414\n",
       "xlf  0.004047  0.018654 -0.010457 -0.086668  0.060978  0.023314\n",
       "fxi -0.001565  0.020766 -0.007530 -0.096414  0.023314  0.057419"
      ]
     },
     "execution_count": 24,
     "metadata": {},
     "output_type": "execute_result"
    }
   ],
   "source": [
    "annual_covariance"
   ]
  },
  {
   "cell_type": "code",
   "execution_count": 25,
   "metadata": {},
   "outputs": [],
   "source": [
    "stocks_selected = ['btc','spy', 'tlt','vxx', 'xlf', 'fxi']"
   ]
  },
  {
   "cell_type": "code",
   "execution_count": 26,
   "metadata": {},
   "outputs": [],
   "source": [
    "#empty lists to store returns, volatility and weights of imiginary portfolios\n",
    "returns_list = []\n",
    "volatility_list = []\n",
    "sharpe_ratio = []\n",
    "stock_weights = []\n",
    "\n",
    "# set the number of combinations for imaginary portfolios\n",
    "num_assets = len(stocks_selected)\n",
    "num_portfolios = 50000\n"
   ]
  },
  {
   "cell_type": "code",
   "execution_count": 27,
   "metadata": {},
   "outputs": [
    {
     "data": {
      "text/plain": [
       "array([0.27989812, 0.83813272, 0.36188451, 0.23493354, 0.80410617,\n",
       "       0.32338814])"
      ]
     },
     "execution_count": 27,
     "metadata": {},
     "output_type": "execute_result"
    }
   ],
   "source": [
    "np.random.random(num_assets)"
   ]
  },
  {
   "cell_type": "code",
   "execution_count": 28,
   "metadata": {},
   "outputs": [],
   "source": [
    "# populate the empty lists with each portfolios returns,risk and weights\n",
    "for single_portfolio in range(num_portfolios):\n",
    "    weights = np.random.random(num_assets)\n",
    "    weights /= np.sum(weights)\n",
    "    returns = np.dot(weights, annual_returns)\n",
    "    volatility = np.sqrt(np.dot(weights.T, np.dot(annual_covariance, weights)))\n",
    "    sharpe = (returns-0.015) / volatility\n",
    "    sharpe_ratio.append(sharpe)\n",
    "    returns_list.append(returns)\n",
    "    volatility_list.append(volatility)\n",
    "    stock_weights.append(weights)"
   ]
  },
  {
   "cell_type": "code",
   "execution_count": 29,
   "metadata": {},
   "outputs": [
    {
     "data": {
      "text/html": [
       "<div>\n",
       "<style scoped>\n",
       "    .dataframe tbody tr th:only-of-type {\n",
       "        vertical-align: middle;\n",
       "    }\n",
       "\n",
       "    .dataframe tbody tr th {\n",
       "        vertical-align: top;\n",
       "    }\n",
       "\n",
       "    .dataframe thead th {\n",
       "        text-align: right;\n",
       "    }\n",
       "</style>\n",
       "<table border=\"1\" class=\"dataframe\">\n",
       "  <thead>\n",
       "    <tr style=\"text-align: right;\">\n",
       "      <th></th>\n",
       "      <th>Returns</th>\n",
       "      <th>Volatility</th>\n",
       "      <th>Sharpe Ratio</th>\n",
       "      <th>btc Weight</th>\n",
       "      <th>spy Weight</th>\n",
       "      <th>tlt Weight</th>\n",
       "      <th>vxx Weight</th>\n",
       "      <th>xlf Weight</th>\n",
       "      <th>fxi Weight</th>\n",
       "    </tr>\n",
       "  </thead>\n",
       "  <tbody>\n",
       "    <tr>\n",
       "      <th>0</th>\n",
       "      <td>0.681028</td>\n",
       "      <td>0.193977</td>\n",
       "      <td>3.433541</td>\n",
       "      <td>0.216295</td>\n",
       "      <td>0.320729</td>\n",
       "      <td>0.079484</td>\n",
       "      <td>0.240691</td>\n",
       "      <td>0.053046</td>\n",
       "      <td>0.089755</td>\n",
       "    </tr>\n",
       "    <tr>\n",
       "      <th>1</th>\n",
       "      <td>0.720668</td>\n",
       "      <td>0.183591</td>\n",
       "      <td>3.843698</td>\n",
       "      <td>0.216482</td>\n",
       "      <td>0.104452</td>\n",
       "      <td>0.162840</td>\n",
       "      <td>0.196120</td>\n",
       "      <td>0.196342</td>\n",
       "      <td>0.123765</td>\n",
       "    </tr>\n",
       "    <tr>\n",
       "      <th>2</th>\n",
       "      <td>0.401715</td>\n",
       "      <td>0.194764</td>\n",
       "      <td>1.985562</td>\n",
       "      <td>0.138588</td>\n",
       "      <td>0.106267</td>\n",
       "      <td>0.028158</td>\n",
       "      <td>0.326882</td>\n",
       "      <td>0.141073</td>\n",
       "      <td>0.259033</td>\n",
       "    </tr>\n",
       "    <tr>\n",
       "      <th>3</th>\n",
       "      <td>0.990539</td>\n",
       "      <td>0.217507</td>\n",
       "      <td>4.485091</td>\n",
       "      <td>0.281983</td>\n",
       "      <td>0.120241</td>\n",
       "      <td>0.253893</td>\n",
       "      <td>0.009449</td>\n",
       "      <td>0.041892</td>\n",
       "      <td>0.292542</td>\n",
       "    </tr>\n",
       "    <tr>\n",
       "      <th>4</th>\n",
       "      <td>0.944910</td>\n",
       "      <td>0.200257</td>\n",
       "      <td>4.643578</td>\n",
       "      <td>0.259152</td>\n",
       "      <td>0.091385</td>\n",
       "      <td>0.193934</td>\n",
       "      <td>0.044126</td>\n",
       "      <td>0.248852</td>\n",
       "      <td>0.162551</td>\n",
       "    </tr>\n",
       "  </tbody>\n",
       "</table>\n",
       "</div>"
      ],
      "text/plain": [
       "    Returns  Volatility  Sharpe Ratio  btc Weight  spy Weight  tlt Weight  \\\n",
       "0  0.681028    0.193977      3.433541    0.216295    0.320729    0.079484   \n",
       "1  0.720668    0.183591      3.843698    0.216482    0.104452    0.162840   \n",
       "2  0.401715    0.194764      1.985562    0.138588    0.106267    0.028158   \n",
       "3  0.990539    0.217507      4.485091    0.281983    0.120241    0.253893   \n",
       "4  0.944910    0.200257      4.643578    0.259152    0.091385    0.193934   \n",
       "\n",
       "   vxx Weight  xlf Weight  fxi Weight  \n",
       "0    0.240691    0.053046    0.089755  \n",
       "1    0.196120    0.196342    0.123765  \n",
       "2    0.326882    0.141073    0.259033  \n",
       "3    0.009449    0.041892    0.292542  \n",
       "4    0.044126    0.248852    0.162551  "
      ]
     },
     "execution_count": 29,
     "metadata": {},
     "output_type": "execute_result"
    }
   ],
   "source": [
    "# a dictionary for Returns and Risk values of each portfolio\n",
    "portfolio = {'Returns': returns_list,\n",
    "             'Volatility': volatility_list,\n",
    "             'Sharpe Ratio': sharpe_ratio}\n",
    "\n",
    "# extend original dictionary to accomodate each ticker and weight in the portfolio\n",
    "for ct,ticker in enumerate(stocks_selected):\n",
    "    portfolio[ticker+' Weight'] = [Weight[ct] for Weight in stock_weights]\n",
    "\n",
    "# make a nice dataframe of the extended dictionary\n",
    "portf = pd.DataFrame(portfolio)\n",
    "\n",
    "# get better labels for desired arrangement of columns\n",
    "columns_na = ['Returns', 'Volatility', 'Sharpe Ratio'] + [stock+' Weight' for stock in stocks_selected]\n",
    "\n",
    "# reorder dataframe columns\n",
    "portf= portf[columns_na]\n",
    "portf.head()"
   ]
  },
  {
   "cell_type": "code",
   "execution_count": 30,
   "metadata": {},
   "outputs": [
    {
     "data": {
      "image/png": "[encoded data removed]",
      "text/plain": [
       "<matplotlib.figure.Figure at 0x1b4d85ce9b0>"
      ]
     },
     "metadata": {},
     "output_type": "display_data"
    }
   ],
   "source": [
    "# plot frontier, max sharpe & min Volatility values with a scatterplot\n",
    "plt.style.use('seaborn-dark')\n",
    "portf.plot.scatter(x='Volatility', y='Returns', c='Sharpe Ratio',\n",
    "                cmap='RdYlGn', edgecolors='black', figsize=(10, 10), grid=True)\n",
    "plt.xlabel('Volatility (Std. Deviation)')\n",
    "plt.ylabel('Expected Returns')\n",
    "plt.title('Efficient Frontier')\n",
    "plt.show()"
   ]
  },
  {
   "cell_type": "code",
   "execution_count": 31,
   "metadata": {},
   "outputs": [],
   "source": [
    "best_df = portf[(portf.Volatility< 0.1301) & (portf.Volatility > 0.1299)]"
   ]
  },
  {
   "cell_type": "code",
   "execution_count": 63,
   "metadata": {},
   "outputs": [
    {
     "data": {
      "text/html": [
       "<div>\n",
       "<style scoped>\n",
       "    .dataframe tbody tr th:only-of-type {\n",
       "        vertical-align: middle;\n",
       "    }\n",
       "\n",
       "    .dataframe tbody tr th {\n",
       "        vertical-align: top;\n",
       "    }\n",
       "\n",
       "    .dataframe thead th {\n",
       "        text-align: right;\n",
       "    }\n",
       "</style>\n",
       "<table border=\"1\" class=\"dataframe\">\n",
       "  <thead>\n",
       "    <tr style=\"text-align: right;\">\n",
       "      <th></th>\n",
       "      <th>Returns</th>\n",
       "      <th>Volatility</th>\n",
       "      <th>Sharpe Ratio</th>\n",
       "      <th>btc Weight</th>\n",
       "      <th>spy Weight</th>\n",
       "      <th>tlt Weight</th>\n",
       "      <th>vxx Weight</th>\n",
       "      <th>xlf Weight</th>\n",
       "      <th>fxi Weight</th>\n",
       "    </tr>\n",
       "  </thead>\n",
       "  <tbody>\n",
       "    <tr>\n",
       "      <th>1461</th>\n",
       "      <td>0.546693</td>\n",
       "      <td>0.129993</td>\n",
       "      <td>4.090180</td>\n",
       "      <td>0.130470</td>\n",
       "      <td>0.238983</td>\n",
       "      <td>0.257495</td>\n",
       "      <td>0.013020</td>\n",
       "      <td>0.251878</td>\n",
       "      <td>0.108155</td>\n",
       "    </tr>\n",
       "    <tr>\n",
       "      <th>2210</th>\n",
       "      <td>0.290610</td>\n",
       "      <td>0.130095</td>\n",
       "      <td>2.118528</td>\n",
       "      <td>0.088071</td>\n",
       "      <td>0.068180</td>\n",
       "      <td>0.213031</td>\n",
       "      <td>0.222494</td>\n",
       "      <td>0.207021</td>\n",
       "      <td>0.201204</td>\n",
       "    </tr>\n",
       "    <tr>\n",
       "      <th>2876</th>\n",
       "      <td>0.113188</td>\n",
       "      <td>0.130055</td>\n",
       "      <td>0.754969</td>\n",
       "      <td>0.035820</td>\n",
       "      <td>0.296062</td>\n",
       "      <td>0.089647</td>\n",
       "      <td>0.269443</td>\n",
       "      <td>0.199223</td>\n",
       "      <td>0.109804</td>\n",
       "    </tr>\n",
       "    <tr>\n",
       "      <th>2904</th>\n",
       "      <td>0.570114</td>\n",
       "      <td>0.129998</td>\n",
       "      <td>4.270166</td>\n",
       "      <td>0.158456</td>\n",
       "      <td>0.287828</td>\n",
       "      <td>0.095004</td>\n",
       "      <td>0.125438</td>\n",
       "      <td>0.139141</td>\n",
       "      <td>0.194133</td>\n",
       "    </tr>\n",
       "    <tr>\n",
       "      <th>3784</th>\n",
       "      <td>0.304680</td>\n",
       "      <td>0.129984</td>\n",
       "      <td>2.228586</td>\n",
       "      <td>0.097305</td>\n",
       "      <td>0.031680</td>\n",
       "      <td>0.273364</td>\n",
       "      <td>0.204665</td>\n",
       "      <td>0.113435</td>\n",
       "      <td>0.279551</td>\n",
       "    </tr>\n",
       "  </tbody>\n",
       "</table>\n",
       "</div>"
      ],
      "text/plain": [
       "       Returns  Volatility  Sharpe Ratio  btc Weight  spy Weight  tlt Weight  \\\n",
       "1461  0.546693    0.129993      4.090180    0.130470    0.238983    0.257495   \n",
       "2210  0.290610    0.130095      2.118528    0.088071    0.068180    0.213031   \n",
       "2876  0.113188    0.130055      0.754969    0.035820    0.296062    0.089647   \n",
       "2904  0.570114    0.129998      4.270166    0.158456    0.287828    0.095004   \n",
       "3784  0.304680    0.129984      2.228586    0.097305    0.031680    0.273364   \n",
       "\n",
       "      vxx Weight  xlf Weight  fxi Weight  \n",
       "1461    0.013020    0.251878    0.108155  \n",
       "2210    0.222494    0.207021    0.201204  \n",
       "2876    0.269443    0.199223    0.109804  \n",
       "2904    0.125438    0.139141    0.194133  \n",
       "3784    0.204665    0.113435    0.279551  "
      ]
     },
     "execution_count": 63,
     "metadata": {},
     "output_type": "execute_result"
    }
   ],
   "source": [
    "best_df.head()"
   ]
  },
  {
   "cell_type": "code",
   "execution_count": 101,
   "metadata": {},
   "outputs": [
    {
     "data": {
      "text/plain": [
       "Int64Index([ 1461,  2210,  2876,  2904,  3784,  4871,  5746,  7374,  7396,\n",
       "             8383,  8412,  8602,  8801, 10271, 10947, 11082, 11448, 11600,\n",
       "            11636, 11706, 12109, 12540, 13376, 13768, 14053, 15524, 15887,\n",
       "            16932, 17428, 18055, 19103, 20607, 21060, 21762, 23875, 26068,\n",
       "            29283, 29319, 29596, 29772, 29956, 31756, 32790, 32792, 34239,\n",
       "            34370, 35050, 37907, 38326, 38598, 38704, 38749, 39956, 40225,\n",
       "            40374, 40539, 40963, 43007, 43338, 44917, 45524, 46482, 47069,\n",
       "            47456, 47998, 49538],\n",
       "           dtype='int64')"
      ]
     },
     "execution_count": 101,
     "metadata": {},
     "output_type": "execute_result"
    }
   ],
   "source": [
    "best_df['Returns'].index"
   ]
  },
  {
   "cell_type": "code",
   "execution_count": 102,
   "metadata": {},
   "outputs": [
    {
     "data": {
      "text/plain": [
       "Int64Index([], dtype='int64')"
      ]
     },
     "execution_count": 102,
     "metadata": {},
     "output_type": "execute_result"
    }
   ],
   "source": [
    "best_df['Returns'].index[best_df['Returns'] == 0.546693]"
   ]
  },
  {
   "cell_type": "code",
   "execution_count": 84,
   "metadata": {},
   "outputs": [],
   "source": [
    "cur = 0\n",
    "max_index = 0\n",
    "for x in best_df['Returns']:\n",
    "    if best_df['Returns'][i] >cur:\n",
    "        cur = best_df['Returns'][i]\n",
    "        max_index = i\n",
    "        \n",
    "\n",
    "\n",
    "    "
   ]
  },
  {
   "cell_type": "code",
   "execution_count": 86,
   "metadata": {},
   "outputs": [
    {
     "data": {
      "text/plain": [
       "Returns         0.602096\n",
       "Volatility      0.130030\n",
       "Sharpe Ratio    4.515093\n",
       "btc Weight      0.162289\n",
       "spy Weight      0.229645\n",
       "tlt Weight      0.236801\n",
       "vxx Weight      0.080876\n",
       "xlf Weight      0.187296\n",
       "fxi Weight      0.103093\n",
       "Name: 17428, dtype: float64"
      ]
     },
     "execution_count": 86,
     "metadata": {},
     "output_type": "execute_result"
    }
   ],
   "source": [
    "best_df.loc[max_index]"
   ]
  },
  {
   "cell_type": "code",
   "execution_count": 83,
   "metadata": {},
   "outputs": [
    {
     "data": {
      "text/plain": [
       "0.3544572961324888"
      ]
     },
     "execution_count": 83,
     "metadata": {},
     "output_type": "execute_result"
    }
   ],
   "source": [
    "best_df['Returns'][46482]"
   ]
  },
  {
   "cell_type": "code",
   "execution_count": 80,
   "metadata": {},
   "outputs": [
    {
     "data": {
      "text/plain": [
       "0.6020962662408236"
      ]
     },
     "execution_count": 80,
     "metadata": {},
     "output_type": "execute_result"
    }
   ],
   "source": [
    "best_df['Returns'][17428]"
   ]
  },
  {
   "cell_type": "code",
   "execution_count": 76,
   "metadata": {},
   "outputs": [
    {
     "data": {
      "text/plain": [
       "17428"
      ]
     },
     "execution_count": 76,
     "metadata": {},
     "output_type": "execute_result"
    }
   ],
   "source": [
    "best_df['Returns'].idxmax()"
   ]
  },
  {
   "cell_type": "code",
   "execution_count": 32,
   "metadata": {},
   "outputs": [],
   "source": [
    "best_return = best_df.loc[best_df['Returns'].idxmax()]\n",
    "best_sharpe_ratio = best_df.loc[best_df['Sharpe Ratio'].idxmax()]"
   ]
  },
  {
   "cell_type": "code",
   "execution_count": 33,
   "metadata": {},
   "outputs": [
    {
     "data": {
      "text/plain": [
       "Returns         0.602096\n",
       "Volatility      0.130030\n",
       "Sharpe Ratio    4.515093\n",
       "btc Weight      0.162289\n",
       "spy Weight      0.229645\n",
       "tlt Weight      0.236801\n",
       "vxx Weight      0.080876\n",
       "xlf Weight      0.187296\n",
       "fxi Weight      0.103093\n",
       "Name: 17428, dtype: float64"
      ]
     },
     "execution_count": 33,
     "metadata": {},
     "output_type": "execute_result"
    }
   ],
   "source": [
    "best_return"
   ]
  },
  {
   "cell_type": "code",
   "execution_count": 34,
   "metadata": {},
   "outputs": [
    {
     "data": {
      "text/plain": [
       "Returns         0.602096\n",
       "Volatility      0.130030\n",
       "Sharpe Ratio    4.515093\n",
       "btc Weight      0.162289\n",
       "spy Weight      0.229645\n",
       "tlt Weight      0.236801\n",
       "vxx Weight      0.080876\n",
       "xlf Weight      0.187296\n",
       "fxi Weight      0.103093\n",
       "Name: 17428, dtype: float64"
      ]
     },
     "execution_count": 34,
     "metadata": {},
     "output_type": "execute_result"
    }
   ],
   "source": [
    "best_sharpe_ratio"
   ]
  },
  {
   "cell_type": "code",
   "execution_count": null,
   "metadata": {},
   "outputs": [],
   "source": []
  },
  {
   "cell_type": "markdown",
   "metadata": {},
   "source": [
    "# Part 2"
   ]
  },
  {
   "cell_type": "markdown",
   "metadata": {},
   "source": [
    "# Cap Weighted"
   ]
  },
  {
   "cell_type": "code",
   "execution_count": 35,
   "metadata": {},
   "outputs": [],
   "source": [
    "mca = {'btc': 13.5, 'spy': 259.06, 'tlt': 6.3, 'vxx': 0.8, 'xlf': 31.04, 'fxi':4.49}"
   ]
  },
  {
   "cell_type": "code",
   "execution_count": 36,
   "metadata": {},
   "outputs": [
    {
     "name": "stdout",
     "output_type": "stream",
     "text": [
      "btc 0.04283130809987626\n",
      "spy 0.821916938989181\n",
      "tlt 0.019987943779942254\n",
      "vxx 0.0025381515911037785\n",
      "xlf 0.09848028173482659\n",
      "fxi 0.014245375805069956\n"
     ]
    }
   ],
   "source": [
    "for i in mca:\n",
    "    print(i, mca[i]/sum(mca.values()))"
   ]
  },
  {
   "cell_type": "markdown",
   "metadata": {},
   "source": [
    "# Min Variance"
   ]
  },
  {
   "cell_type": "markdown",
   "metadata": {},
   "source": [
    "# Methods 1: using the methods in my homework 6 (monte carlo simulation to find the min variance)"
   ]
  },
  {
   "cell_type": "code",
   "execution_count": 37,
   "metadata": {},
   "outputs": [],
   "source": [
    "min_volatility = portf['Volatility'].min()"
   ]
  },
  {
   "cell_type": "code",
   "execution_count": 38,
   "metadata": {},
   "outputs": [],
   "source": [
    "min_variance_port = portf.loc[portf['Volatility'] == min_volatility]"
   ]
  },
  {
   "cell_type": "code",
   "execution_count": 39,
   "metadata": {},
   "outputs": [
    {
     "data": {
      "text/html": [
       "<div>\n",
       "<style scoped>\n",
       "    .dataframe tbody tr th:only-of-type {\n",
       "        vertical-align: middle;\n",
       "    }\n",
       "\n",
       "    .dataframe tbody tr th {\n",
       "        vertical-align: top;\n",
       "    }\n",
       "\n",
       "    .dataframe thead th {\n",
       "        text-align: right;\n",
       "    }\n",
       "</style>\n",
       "<table border=\"1\" class=\"dataframe\">\n",
       "  <thead>\n",
       "    <tr style=\"text-align: right;\">\n",
       "      <th></th>\n",
       "      <th>40901</th>\n",
       "    </tr>\n",
       "  </thead>\n",
       "  <tbody>\n",
       "    <tr>\n",
       "      <th>Returns</th>\n",
       "      <td>0.129598</td>\n",
       "    </tr>\n",
       "    <tr>\n",
       "      <th>Volatility</th>\n",
       "      <td>0.054805</td>\n",
       "    </tr>\n",
       "    <tr>\n",
       "      <th>Sharpe Ratio</th>\n",
       "      <td>2.090989</td>\n",
       "    </tr>\n",
       "    <tr>\n",
       "      <th>btc Weight</th>\n",
       "      <td>0.026397</td>\n",
       "    </tr>\n",
       "    <tr>\n",
       "      <th>spy Weight</th>\n",
       "      <td>0.447245</td>\n",
       "    </tr>\n",
       "    <tr>\n",
       "      <th>tlt Weight</th>\n",
       "      <td>0.287633</td>\n",
       "    </tr>\n",
       "    <tr>\n",
       "      <th>vxx Weight</th>\n",
       "      <td>0.103449</td>\n",
       "    </tr>\n",
       "    <tr>\n",
       "      <th>xlf Weight</th>\n",
       "      <td>0.060813</td>\n",
       "    </tr>\n",
       "    <tr>\n",
       "      <th>fxi Weight</th>\n",
       "      <td>0.074463</td>\n",
       "    </tr>\n",
       "  </tbody>\n",
       "</table>\n",
       "</div>"
      ],
      "text/plain": [
       "                 40901\n",
       "Returns       0.129598\n",
       "Volatility    0.054805\n",
       "Sharpe Ratio  2.090989\n",
       "btc Weight    0.026397\n",
       "spy Weight    0.447245\n",
       "tlt Weight    0.287633\n",
       "vxx Weight    0.103449\n",
       "xlf Weight    0.060813\n",
       "fxi Weight    0.074463"
      ]
     },
     "execution_count": 39,
     "metadata": {},
     "output_type": "execute_result"
    }
   ],
   "source": [
    "min_variance_port.T"
   ]
  },
  {
   "cell_type": "code",
   "execution_count": null,
   "metadata": {},
   "outputs": [],
   "source": []
  },
  {
   "cell_type": "markdown",
   "metadata": {},
   "source": [
    "# Methods 2: Using scipy.optimze to find the max sharp ratio with min variance "
   ]
  },
  {
   "cell_type": "code",
   "execution_count": 40,
   "metadata": {},
   "outputs": [],
   "source": [
    "# Calculates portfolio mean return\n",
    "def port_mean(W, R):\n",
    "    return sum(R * W)\n",
    "\n",
    "# Calculates portfolio variance of returns\n",
    "def port_var(W, C):\n",
    "    return np.dot(np.dot(W, C), W)\n",
    "\n",
    "# Combination of the two functions above - mean and variance of returns calculation\n",
    "def port_mean_var(W, R, C):\n",
    "    return port_mean(W, R), port_var(W, C)"
   ]
  },
  {
   "cell_type": "code",
   "execution_count": 41,
   "metadata": {},
   "outputs": [],
   "source": [
    "# Given risk-free rate, assets returns and covariances, this function calculates\n",
    "# weights of tangency portfolio with respect to sharpe ratio maximization\n",
    "def solve_weights(R, C, rf):\n",
    "    def fitness(W, R, C, rf):\n",
    "        mean, var = port_mean_var(W, R, C)  # calculate mean/variance of the portfolio\n",
    "        util = (mean - rf) / np.sqrt(var)  # utility = Sharpe ratio\n",
    "        return 1 / util  # maximize the utility, minimize its inverse value\n",
    "    n = len(R)\n",
    "    W = np.ones([n]) / n  # start optimization with equal weights\n",
    "    b_ = [(0., 1.) for i in range(n)]  # weights for boundaries between 0%..100%. No leverage, no shorting\n",
    "    c_ = ({'type': 'eq', 'fun': lambda W: sum(W) - 1.})  # Sum of weights must be 100%\n",
    "    optimized = scipy.optimize.minimize(fitness, W, (R, C, rf), method='SLSQP', constraints=c_)\n",
    "    if not optimized.success: raise BaseException(optimized.message)\n",
    "    return optimized.x"
   ]
  },
  {
   "cell_type": "code",
   "execution_count": 42,
   "metadata": {},
   "outputs": [
    {
     "data": {
      "text/plain": [
       "btc    3.315230\n",
       "spy    0.126030\n",
       "tlt    0.014784\n",
       "vxx   -0.424494\n",
       "xlf    0.298959\n",
       "fxi    0.096668\n",
       "dtype: float64"
      ]
     },
     "execution_count": 42,
     "metadata": {},
     "output_type": "execute_result"
    }
   ],
   "source": [
    "annual_returns"
   ]
  },
  {
   "cell_type": "code",
   "execution_count": 43,
   "metadata": {},
   "outputs": [
    {
     "data": {
      "text/html": [
       "<div>\n",
       "<style scoped>\n",
       "    .dataframe tbody tr th:only-of-type {\n",
       "        vertical-align: middle;\n",
       "    }\n",
       "\n",
       "    .dataframe tbody tr th {\n",
       "        vertical-align: top;\n",
       "    }\n",
       "\n",
       "    .dataframe thead th {\n",
       "        text-align: right;\n",
       "    }\n",
       "</style>\n",
       "<table border=\"1\" class=\"dataframe\">\n",
       "  <thead>\n",
       "    <tr style=\"text-align: right;\">\n",
       "      <th></th>\n",
       "      <th>btc</th>\n",
       "      <th>spy</th>\n",
       "      <th>tlt</th>\n",
       "      <th>vxx</th>\n",
       "      <th>xlf</th>\n",
       "      <th>fxi</th>\n",
       "    </tr>\n",
       "  </thead>\n",
       "  <tbody>\n",
       "    <tr>\n",
       "      <th>btc</th>\n",
       "      <td>0.514416</td>\n",
       "      <td>0.004759</td>\n",
       "      <td>0.000655</td>\n",
       "      <td>-0.009850</td>\n",
       "      <td>0.004047</td>\n",
       "      <td>-0.001565</td>\n",
       "    </tr>\n",
       "    <tr>\n",
       "      <th>spy</th>\n",
       "      <td>0.004759</td>\n",
       "      <td>0.016326</td>\n",
       "      <td>-0.005182</td>\n",
       "      <td>-0.073478</td>\n",
       "      <td>0.018654</td>\n",
       "      <td>0.020766</td>\n",
       "    </tr>\n",
       "    <tr>\n",
       "      <th>tlt</th>\n",
       "      <td>0.000655</td>\n",
       "      <td>-0.005182</td>\n",
       "      <td>0.015600</td>\n",
       "      <td>0.022132</td>\n",
       "      <td>-0.010457</td>\n",
       "      <td>-0.007530</td>\n",
       "    </tr>\n",
       "    <tr>\n",
       "      <th>vxx</th>\n",
       "      <td>-0.009850</td>\n",
       "      <td>-0.073478</td>\n",
       "      <td>0.022132</td>\n",
       "      <td>0.461633</td>\n",
       "      <td>-0.086668</td>\n",
       "      <td>-0.096414</td>\n",
       "    </tr>\n",
       "    <tr>\n",
       "      <th>xlf</th>\n",
       "      <td>0.004047</td>\n",
       "      <td>0.018654</td>\n",
       "      <td>-0.010457</td>\n",
       "      <td>-0.086668</td>\n",
       "      <td>0.060978</td>\n",
       "      <td>0.023314</td>\n",
       "    </tr>\n",
       "    <tr>\n",
       "      <th>fxi</th>\n",
       "      <td>-0.001565</td>\n",
       "      <td>0.020766</td>\n",
       "      <td>-0.007530</td>\n",
       "      <td>-0.096414</td>\n",
       "      <td>0.023314</td>\n",
       "      <td>0.057419</td>\n",
       "    </tr>\n",
       "  </tbody>\n",
       "</table>\n",
       "</div>"
      ],
      "text/plain": [
       "          btc       spy       tlt       vxx       xlf       fxi\n",
       "btc  0.514416  0.004759  0.000655 -0.009850  0.004047 -0.001565\n",
       "spy  0.004759  0.016326 -0.005182 -0.073478  0.018654  0.020766\n",
       "tlt  0.000655 -0.005182  0.015600  0.022132 -0.010457 -0.007530\n",
       "vxx -0.009850 -0.073478  0.022132  0.461633 -0.086668 -0.096414\n",
       "xlf  0.004047  0.018654 -0.010457 -0.086668  0.060978  0.023314\n",
       "fxi -0.001565  0.020766 -0.007530 -0.096414  0.023314  0.057419"
      ]
     },
     "execution_count": 43,
     "metadata": {},
     "output_type": "execute_result"
    }
   ],
   "source": [
    "annual_covariance"
   ]
  },
  {
   "cell_type": "code",
   "execution_count": 44,
   "metadata": {},
   "outputs": [
    {
     "data": {
      "text/plain": [
       "array([ 4.34254036e-01,  7.01548339e-02,  1.99966029e-01,  4.07632229e-04,\n",
       "        3.08993611e-01, -1.37761421e-02])"
      ]
     },
     "execution_count": 44,
     "metadata": {},
     "output_type": "execute_result"
    }
   ],
   "source": [
    "# btc, spy, tlt, vxx, xlf, fxi\n",
    "solve_weights(annual_returns, annual_covariance, 0.015)"
   ]
  },
  {
   "cell_type": "code",
   "execution_count": null,
   "metadata": {},
   "outputs": [],
   "source": []
  },
  {
   "cell_type": "code",
   "execution_count": null,
   "metadata": {},
   "outputs": [],
   "source": []
  },
  {
   "cell_type": "markdown",
   "metadata": {},
   "source": [
    "# Risk-parity"
   ]
  },
  {
   "cell_type": "code",
   "execution_count": 45,
   "metadata": {},
   "outputs": [
    {
     "data": {
      "text/html": [
       "<div>\n",
       "<style scoped>\n",
       "    .dataframe tbody tr th:only-of-type {\n",
       "        vertical-align: middle;\n",
       "    }\n",
       "\n",
       "    .dataframe tbody tr th {\n",
       "        vertical-align: top;\n",
       "    }\n",
       "\n",
       "    .dataframe thead th {\n",
       "        text-align: right;\n",
       "    }\n",
       "</style>\n",
       "<table border=\"1\" class=\"dataframe\">\n",
       "  <thead>\n",
       "    <tr style=\"text-align: right;\">\n",
       "      <th></th>\n",
       "      <th>btc</th>\n",
       "      <th>spy</th>\n",
       "      <th>tlt</th>\n",
       "      <th>vxx</th>\n",
       "      <th>xlf</th>\n",
       "      <th>fxi</th>\n",
       "    </tr>\n",
       "    <tr>\n",
       "      <th>Date</th>\n",
       "      <th></th>\n",
       "      <th></th>\n",
       "      <th></th>\n",
       "      <th></th>\n",
       "      <th></th>\n",
       "      <th></th>\n",
       "    </tr>\n",
       "  </thead>\n",
       "  <tbody>\n",
       "    <tr>\n",
       "      <th>2015-03-09</th>\n",
       "      <td>290.019989</td>\n",
       "      <td>196.044159</td>\n",
       "      <td>115.734543</td>\n",
       "      <td>442.559998</td>\n",
       "      <td>14.388450</td>\n",
       "      <td>39.373985</td>\n",
       "    </tr>\n",
       "    <tr>\n",
       "      <th>2015-03-10</th>\n",
       "      <td>291.369995</td>\n",
       "      <td>192.863953</td>\n",
       "      <td>117.257355</td>\n",
       "      <td>456.160004</td>\n",
       "      <td>14.081054</td>\n",
       "      <td>38.458961</td>\n",
       "    </tr>\n",
       "    <tr>\n",
       "      <th>2015-03-11</th>\n",
       "      <td>295.600006</td>\n",
       "      <td>192.412338</td>\n",
       "      <td>118.111649</td>\n",
       "      <td>467.679993</td>\n",
       "      <td>14.169726</td>\n",
       "      <td>38.553299</td>\n",
       "    </tr>\n",
       "    <tr>\n",
       "      <th>2015-03-12</th>\n",
       "      <td>293.850006</td>\n",
       "      <td>194.858627</td>\n",
       "      <td>118.028046</td>\n",
       "      <td>439.679993</td>\n",
       "      <td>14.477120</td>\n",
       "      <td>38.940056</td>\n",
       "    </tr>\n",
       "    <tr>\n",
       "      <th>2015-03-13</th>\n",
       "      <td>287.209991</td>\n",
       "      <td>193.663681</td>\n",
       "      <td>117.665939</td>\n",
       "      <td>449.600006</td>\n",
       "      <td>14.376628</td>\n",
       "      <td>39.138153</td>\n",
       "    </tr>\n",
       "  </tbody>\n",
       "</table>\n",
       "</div>"
      ],
      "text/plain": [
       "                   btc         spy         tlt         vxx        xlf  \\\n",
       "Date                                                                    \n",
       "2015-03-09  290.019989  196.044159  115.734543  442.559998  14.388450   \n",
       "2015-03-10  291.369995  192.863953  117.257355  456.160004  14.081054   \n",
       "2015-03-11  295.600006  192.412338  118.111649  467.679993  14.169726   \n",
       "2015-03-12  293.850006  194.858627  118.028046  439.679993  14.477120   \n",
       "2015-03-13  287.209991  193.663681  117.665939  449.600006  14.376628   \n",
       "\n",
       "                  fxi  \n",
       "Date                   \n",
       "2015-03-09  39.373985  \n",
       "2015-03-10  38.458961  \n",
       "2015-03-11  38.553299  \n",
       "2015-03-12  38.940056  \n",
       "2015-03-13  39.138153  "
      ]
     },
     "execution_count": 45,
     "metadata": {},
     "output_type": "execute_result"
    }
   ],
   "source": [
    "combined5.head()"
   ]
  },
  {
   "cell_type": "code",
   "execution_count": 46,
   "metadata": {},
   "outputs": [],
   "source": [
    "combined_ret = combined5.pct_change(1)"
   ]
  },
  {
   "cell_type": "code",
   "execution_count": 47,
   "metadata": {},
   "outputs": [
    {
     "data": {
      "text/html": [
       "<div>\n",
       "<style scoped>\n",
       "    .dataframe tbody tr th:only-of-type {\n",
       "        vertical-align: middle;\n",
       "    }\n",
       "\n",
       "    .dataframe tbody tr th {\n",
       "        vertical-align: top;\n",
       "    }\n",
       "\n",
       "    .dataframe thead th {\n",
       "        text-align: right;\n",
       "    }\n",
       "</style>\n",
       "<table border=\"1\" class=\"dataframe\">\n",
       "  <thead>\n",
       "    <tr style=\"text-align: right;\">\n",
       "      <th></th>\n",
       "      <th>btc</th>\n",
       "      <th>spy</th>\n",
       "      <th>tlt</th>\n",
       "      <th>vxx</th>\n",
       "      <th>xlf</th>\n",
       "      <th>fxi</th>\n",
       "    </tr>\n",
       "    <tr>\n",
       "      <th>Date</th>\n",
       "      <th></th>\n",
       "      <th></th>\n",
       "      <th></th>\n",
       "      <th></th>\n",
       "      <th></th>\n",
       "      <th></th>\n",
       "    </tr>\n",
       "  </thead>\n",
       "  <tbody>\n",
       "    <tr>\n",
       "      <th>2015-03-09</th>\n",
       "      <td>NaN</td>\n",
       "      <td>NaN</td>\n",
       "      <td>NaN</td>\n",
       "      <td>NaN</td>\n",
       "      <td>NaN</td>\n",
       "      <td>NaN</td>\n",
       "    </tr>\n",
       "    <tr>\n",
       "      <th>2015-03-10</th>\n",
       "      <td>0.004655</td>\n",
       "      <td>-0.016222</td>\n",
       "      <td>0.013158</td>\n",
       "      <td>0.030730</td>\n",
       "      <td>-0.021364</td>\n",
       "      <td>-0.023239</td>\n",
       "    </tr>\n",
       "    <tr>\n",
       "      <th>2015-03-11</th>\n",
       "      <td>0.014518</td>\n",
       "      <td>-0.002342</td>\n",
       "      <td>0.007286</td>\n",
       "      <td>0.025254</td>\n",
       "      <td>0.006297</td>\n",
       "      <td>0.002453</td>\n",
       "    </tr>\n",
       "    <tr>\n",
       "      <th>2015-03-12</th>\n",
       "      <td>-0.005920</td>\n",
       "      <td>0.012714</td>\n",
       "      <td>-0.000708</td>\n",
       "      <td>-0.059870</td>\n",
       "      <td>0.021694</td>\n",
       "      <td>0.010032</td>\n",
       "    </tr>\n",
       "    <tr>\n",
       "      <th>2015-03-13</th>\n",
       "      <td>-0.022597</td>\n",
       "      <td>-0.006132</td>\n",
       "      <td>-0.003068</td>\n",
       "      <td>0.022562</td>\n",
       "      <td>-0.006941</td>\n",
       "      <td>0.005087</td>\n",
       "    </tr>\n",
       "  </tbody>\n",
       "</table>\n",
       "</div>"
      ],
      "text/plain": [
       "                 btc       spy       tlt       vxx       xlf       fxi\n",
       "Date                                                                  \n",
       "2015-03-09       NaN       NaN       NaN       NaN       NaN       NaN\n",
       "2015-03-10  0.004655 -0.016222  0.013158  0.030730 -0.021364 -0.023239\n",
       "2015-03-11  0.014518 -0.002342  0.007286  0.025254  0.006297  0.002453\n",
       "2015-03-12 -0.005920  0.012714 -0.000708 -0.059870  0.021694  0.010032\n",
       "2015-03-13 -0.022597 -0.006132 -0.003068  0.022562 -0.006941  0.005087"
      ]
     },
     "execution_count": 47,
     "metadata": {},
     "output_type": "execute_result"
    }
   ],
   "source": [
    "combined_ret.head()"
   ]
  },
  {
   "cell_type": "code",
   "execution_count": 48,
   "metadata": {},
   "outputs": [],
   "source": [
    "btc_std = combined_ret.btc.std()\n",
    "spy_std = combined_ret.spy.std()\n",
    "tlt_std = combined_ret.tlt.std()\n",
    "vxx_std = combined_ret.vxx.std()\n",
    "xlf_std = combined_ret.xlf.std()\n",
    "fxi_std = combined_ret.fxi.std()"
   ]
  },
  {
   "cell_type": "code",
   "execution_count": 49,
   "metadata": {},
   "outputs": [],
   "source": [
    "btc_std_inv = 1/combined_ret.btc.std()\n",
    "spy_std_inv = 1/combined_ret.spy.std()\n",
    "tlt_std_inv = 1/combined_ret.tlt.std()\n",
    "vxx_std_inv = 1/combined_ret.vxx.std()\n",
    "xlf_std_inv = 1/combined_ret.xlf.std()\n",
    "fxi_std_inv = 1/combined_ret.fxi.std()"
   ]
  },
  {
   "cell_type": "code",
   "execution_count": 50,
   "metadata": {},
   "outputs": [],
   "source": [
    "#stds_inv = [btc_std_inv,spy_std_inv,tlt_std_inv,vxx_std_inv, xlf_std_inv,fxi_std_inv ]\n",
    "stds_inv = {'btc': btc_std_inv, 'spy': spy_std_inv, 'tlt': tlt_std_inv, 'vxx':vxx_std_inv, 'xlf': xlf_std_inv, 'fxi':fxi_std_inv}"
   ]
  },
  {
   "cell_type": "code",
   "execution_count": 51,
   "metadata": {},
   "outputs": [
    {
     "name": "stdout",
     "output_type": "stream",
     "text": [
      "btc 0.051789356515100526\n",
      "spy 0.29070857401165046\n",
      "tlt 0.2973963602988678\n",
      "vxx 0.054670034349038145\n",
      "xlf 0.150421509737437\n",
      "fxi 0.15501416508790622\n"
     ]
    }
   ],
   "source": [
    "for x in stds_inv:\n",
    "    print(x, stds_inv[x]/sum(stds_inv.values()))\n",
    "    "
   ]
  },
  {
   "cell_type": "code",
   "execution_count": null,
   "metadata": {},
   "outputs": [],
   "source": []
  },
  {
   "cell_type": "code",
   "execution_count": null,
   "metadata": {},
   "outputs": [],
   "source": []
  },
  {
   "cell_type": "markdown",
   "metadata": {},
   "source": [
    "# First eigenportfolio"
   ]
  },
  {
   "cell_type": "code",
   "execution_count": 52,
   "metadata": {},
   "outputs": [],
   "source": [
    "# correlation matrix\n",
    "corr = combined_ret.corr()"
   ]
  },
  {
   "cell_type": "code",
   "execution_count": 53,
   "metadata": {},
   "outputs": [
    {
     "data": {
      "text/html": [
       "<div>\n",
       "<style scoped>\n",
       "    .dataframe tbody tr th:only-of-type {\n",
       "        vertical-align: middle;\n",
       "    }\n",
       "\n",
       "    .dataframe tbody tr th {\n",
       "        vertical-align: top;\n",
       "    }\n",
       "\n",
       "    .dataframe thead th {\n",
       "        text-align: right;\n",
       "    }\n",
       "</style>\n",
       "<table border=\"1\" class=\"dataframe\">\n",
       "  <thead>\n",
       "    <tr style=\"text-align: right;\">\n",
       "      <th></th>\n",
       "      <th>btc</th>\n",
       "      <th>spy</th>\n",
       "      <th>tlt</th>\n",
       "      <th>vxx</th>\n",
       "      <th>xlf</th>\n",
       "      <th>fxi</th>\n",
       "    </tr>\n",
       "  </thead>\n",
       "  <tbody>\n",
       "    <tr>\n",
       "      <th>btc</th>\n",
       "      <td>1.000000</td>\n",
       "      <td>0.051928</td>\n",
       "      <td>0.007310</td>\n",
       "      <td>-0.020212</td>\n",
       "      <td>0.022852</td>\n",
       "      <td>-0.009103</td>\n",
       "    </tr>\n",
       "    <tr>\n",
       "      <th>spy</th>\n",
       "      <td>0.051928</td>\n",
       "      <td>1.000000</td>\n",
       "      <td>-0.324704</td>\n",
       "      <td>-0.846391</td>\n",
       "      <td>0.591218</td>\n",
       "      <td>0.678254</td>\n",
       "    </tr>\n",
       "    <tr>\n",
       "      <th>tlt</th>\n",
       "      <td>0.007310</td>\n",
       "      <td>-0.324704</td>\n",
       "      <td>1.000000</td>\n",
       "      <td>0.260797</td>\n",
       "      <td>-0.339050</td>\n",
       "      <td>-0.251602</td>\n",
       "    </tr>\n",
       "    <tr>\n",
       "      <th>vxx</th>\n",
       "      <td>-0.020212</td>\n",
       "      <td>-0.846391</td>\n",
       "      <td>0.260797</td>\n",
       "      <td>1.000000</td>\n",
       "      <td>-0.516562</td>\n",
       "      <td>-0.592193</td>\n",
       "    </tr>\n",
       "    <tr>\n",
       "      <th>xlf</th>\n",
       "      <td>0.022852</td>\n",
       "      <td>0.591218</td>\n",
       "      <td>-0.339050</td>\n",
       "      <td>-0.516562</td>\n",
       "      <td>1.000000</td>\n",
       "      <td>0.394011</td>\n",
       "    </tr>\n",
       "  </tbody>\n",
       "</table>\n",
       "</div>"
      ],
      "text/plain": [
       "          btc       spy       tlt       vxx       xlf       fxi\n",
       "btc  1.000000  0.051928  0.007310 -0.020212  0.022852 -0.009103\n",
       "spy  0.051928  1.000000 -0.324704 -0.846391  0.591218  0.678254\n",
       "tlt  0.007310 -0.324704  1.000000  0.260797 -0.339050 -0.251602\n",
       "vxx -0.020212 -0.846391  0.260797  1.000000 -0.516562 -0.592193\n",
       "xlf  0.022852  0.591218 -0.339050 -0.516562  1.000000  0.394011"
      ]
     },
     "execution_count": 53,
     "metadata": {},
     "output_type": "execute_result"
    }
   ],
   "source": [
    "corr.head()"
   ]
  },
  {
   "cell_type": "code",
   "execution_count": 54,
   "metadata": {},
   "outputs": [],
   "source": [
    "#dataframe to matrix, prepare for eigenvector and eigenvalue calculation\n",
    "corr_mat = corr.as_matrix()"
   ]
  },
  {
   "cell_type": "code",
   "execution_count": 55,
   "metadata": {},
   "outputs": [],
   "source": [
    "#eigenvalues\n",
    "eig_vals = np.linalg.eig(corr_mat)[0]\n",
    "#eigenvectors\n",
    "eig_vecs = np.linalg.eig(corr_mat)[1]"
   ]
  },
  {
   "cell_type": "code",
   "execution_count": 56,
   "metadata": {},
   "outputs": [],
   "source": [
    "#the first eigenvector\n",
    "eigenvec_1 = eig_vecs[:,0]"
   ]
  },
  {
   "cell_type": "code",
   "execution_count": 57,
   "metadata": {},
   "outputs": [
    {
     "data": {
      "text/plain": [
       "array([ 0.02071908,  0.53532077, -0.28009758, -0.50419143,  0.42349108,\n",
       "        0.4483236 ])"
      ]
     },
     "execution_count": 57,
     "metadata": {},
     "output_type": "execute_result"
    }
   ],
   "source": [
    "eigenvec_1"
   ]
  },
  {
   "cell_type": "code",
   "execution_count": 58,
   "metadata": {},
   "outputs": [
    {
     "data": {
      "text/plain": [
       "btc    0.045181\n",
       "spy    0.008049\n",
       "tlt    0.007868\n",
       "vxx    0.042800\n",
       "xlf    0.015556\n",
       "fxi    0.015095\n",
       "dtype: float64"
      ]
     },
     "execution_count": 58,
     "metadata": {},
     "output_type": "execute_result"
    }
   ],
   "source": [
    "#standard deviation\n",
    "stds = combined_ret.std()\n",
    "stds\n",
    "#std_1 =  np.std(eigenvec_1)"
   ]
  },
  {
   "cell_type": "code",
   "execution_count": 59,
   "metadata": {},
   "outputs": [
    {
     "data": {
      "text/plain": [
       "btc     0.458578\n",
       "spy    66.508080\n",
       "tlt   -35.599794\n",
       "vxx   -11.780054\n",
       "xlf    27.224298\n",
       "fxi    29.700617\n",
       "dtype: float64"
      ]
     },
     "execution_count": 59,
     "metadata": {},
     "output_type": "execute_result"
    }
   ],
   "source": [
    "eigenvec_1/stds"
   ]
  },
  {
   "cell_type": "code",
   "execution_count": 60,
   "metadata": {},
   "outputs": [],
   "source": [
    "w1 = (eigenvec_1/stds)/sum( eigenvec_1/stds)"
   ]
  },
  {
   "cell_type": "code",
   "execution_count": 61,
   "metadata": {},
   "outputs": [
    {
     "data": {
      "text/plain": [
       "btc    0.005994\n",
       "spy    0.869253\n",
       "tlt   -0.465285\n",
       "vxx   -0.153964\n",
       "xlf    0.355819\n",
       "fxi    0.388184\n",
       "dtype: float64"
      ]
     },
     "execution_count": 61,
     "metadata": {},
     "output_type": "execute_result"
    }
   ],
   "source": [
    "w1"
   ]
  }
 ],
 "metadata": {
  "kernelspec": {
   "display_name": "Python 3",
   "language": "python",
   "name": "python3"
  },
  "language_info": {
   "codemirror_mode": {
    "name": "ipython",
    "version": 3
   },
   "file_extension": ".py",
   "mimetype": "text/x-python",
   "name": "python",
   "nbconvert_exporter": "python",
   "pygments_lexer": "ipython3",
   "version": "3.6.5"
  }
 },
 "nbformat": 4,
 "nbformat_minor": 2
}
